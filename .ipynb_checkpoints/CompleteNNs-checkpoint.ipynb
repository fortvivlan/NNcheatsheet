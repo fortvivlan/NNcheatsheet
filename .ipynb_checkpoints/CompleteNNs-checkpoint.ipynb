{
 "cells": [
  {
   "cell_type": "markdown",
   "id": "b74131fd-9900-4973-8743-fa533241f221",
   "metadata": {},
   "source": [
    "# Конспект по нейронным сетям"
   ]
  },
  {
   "cell_type": "markdown",
   "id": "3588a5cb-e618-4e67-8919-86e15e9624fe",
   "metadata": {},
   "source": [
    "**Нейронная сеть** &ndash; это граф вычислений (DAG, Directed Acyclec Graph) \n",
    "\n",
    "*Императивный подход* vs *символьный подход*:\n",
    "\n",
    "- в императивном подходе сразу считаем все\n",
    "- в символьном подходе сперва задаем граф вычислений, а потом считаем\n",
    "\n",
    "Выгода заранее заданного графа вычислений: некоторые вещи (градиенты) не приходится считать по мильену раз. \n",
    "\n",
    "**Базовые понятия**\n",
    "\n",
    "Граф вычислений &ndash; структура, по которой будет вычисляться сеть\n",
    "\n",
    "Нейрон &ndash; линейная функция, получающая данные на вход, преобразующая их ($w \\cdot x + b$) и возвращающая результат\n",
    "\n",
    "Функция активации &ndash; (нелинейная) функция, которая преобразует выходящий из нейрона сигнал\n",
    "\n",
    "Веса сети &ndash; или *параметры*: те самые $w_i$, все, что должно изменяться в процессе обучения с помощью градиентного спуска\n",
    "\n",
    "Слой &ndash; набор нейронов, которые все получают одни инпуты и выдают какие-то аутпуты через функцию активации\n",
    "\n",
    "forward (прямой проход) &ndash; пробрасывание каких-то данных на вход через весь граф вычислений\n",
    "\n",
    "backprop(agation), бэкпроп &ndash; вычисление градиентов для обновления весов сети\n",
    "\n",
    "Функционал ошибки (loss) &ndash; разница между предсказанным и истинным ответом, может быть выражена разными функциями (для разных задач)\n",
    "\n",
    "Метрика &ndash; способ оценки качества работы НС, может совпадать по формуле с лоссом, но не обязано\n",
    "\n",
    "Градиентный спуск &ndash; метод поиска минимума функции потерь (loss)"
   ]
  },
  {
   "cell_type": "markdown",
   "id": "7a522df3-ff51-4ba7-9715-385a24db12e8",
   "metadata": {},
   "source": [
    "**Фреймворки**:\n",
    "\n",
    "- Theano\n",
    "- Tensorflow + Keras\n",
    "- PyTorch\n",
    "\n",
    "[Статья на хабре про разницу между ними и про торч](https://habr.com/ru/post/334380/)"
   ]
  },
  {
   "cell_type": "markdown",
   "id": "24d31ad7-9465-43fb-b903-61dface9afa7",
   "metadata": {},
   "source": [
    "#### Немного повторения про машинное обучение и в частности про линейные модели\n",
    "\n",
    "**Линейная модель** &ndash; мы пытаемся построить линейную зависимость между признаками и *целевой переменной* (*ground truth*, $\\hat{y}$) вида $w \\cdot x + b = y$ путем настраивания *весов* $w_1, w_2, ..., w_n$ и *свободного коэффициента*, он же смещение, он же bias $w_0$. Как настроить веса? У нас есть некоторый *функционал ошибки*, н-р, $MSE = \\frac{1}{n}\\sum\\limits_{i=1}^{n}(Y_i - \\hat{Y_i})^2$, то есть, некая разница между предсказанным y и истинным y. Мы должны эту разницу минимизировать. Это уравнение может решаться в матричном виде как $w = (X^T \\cdot X)^{-1} \\cdot X^T \\cdot y$ &ndash; это *аналитическое решение*. Его недостатки: 1) вычислительно дорого 2) имеет решение не для всякого функционала ошибки.\n",
    "\n",
    "Обычно задачу минимизации функционала ошибки решают с помощью *градиентного спуска*. Это *аппроксимация* (поэтому иногда про НС говорят, что это аппроксиматоры), то есть, мы не хотим точно найти ответ на наше уравнение, а только приблизительно. Идея градиентного спуска в том, что касательная к функции в точке $x$ указывает направление ее возрастания (вектор градиента), а антиградиент (т.е. градиент с минусом) &ndash; убывания. Мы находим частные производные по всем весам, которые хотим обновить, и вычитаем их из первоначальных весов. "
   ]
  },
  {
   "cell_type": "markdown",
   "id": "47aa8ad2-0062-47ed-b8a7-541797abab8c",
   "metadata": {},
   "source": [
    "**Причем тут нейронки?**\n",
    "\n",
    "А притом, что НС &ndash; это по существу много скомпонованных линейных моделей. "
   ]
  },
  {
   "cell_type": "markdown",
   "id": "e3c1ba52-7f69-4a2c-b7c0-d5c3981d77b9",
   "metadata": {
    "tags": []
   },
   "source": [
    "#### Перцептроны. Немного истории\n",
    "\n",
    "Перцептрон предложил Ф. Розенблатт в 1957 году в одноименной книге. Схема перцептрона выглядит примерно так:\n",
    "\n",
    "<img src='img/1.PNG' width='400'>\n",
    "\n",
    "Перцептрон получает несколько сигналов, домножает их на веса, складывает со смещениями и потом складывает то, что получилось; если получившаяся сумма больше какого-то порога, сигнал проходит, если нет &ndash; то нет. Соответственно, функция активации перцептрона переводит аутпут в бинарное (-1;1). Это может быть функция шага, знака или сигмоида. \n",
    "\n",
    "<img src='img/2.PNG' width='400'>\n",
    "\n",
    "[Алгоритм обучения перцептрона](https://towardsdatascience.com/perceptron-learning-algorithm-d5db0deab975) был не такой, как сегодня в нейронках:\n",
    "\n",
    "P &ndash; инпуты положительного класса (1) \\\n",
    "N &ndash; инпуты отрицательного класса (0) \\\n",
    "Инициализируем $w$ случайным образом; \\\n",
    "while !convergence do: \\\n",
    "   берем рандомный $x \\in P \\cup N$ ; \\\n",
    "   if $x \\in P$ *and* $w \\cdot x < 0$ then \\\n",
    "       $w = w + x$ ; \\\n",
    "   end \\\n",
    "   if $x \\in N$ *and* $w \\cdot x \\geq 0$ then \\\n",
    "       $w = w - x$ ; \\\n",
    "   end \\\n",
    "end\n",
    "     \n"
   ]
  },
  {
   "cell_type": "markdown",
   "id": "b636b12b-a2fd-4051-b780-ef58ae04d2b9",
   "metadata": {},
   "source": [
    "Вот перцептрон с сигмоидой и градиентным спуском &ndash; это уже близко к реальности. Но в 1969 году Марвин Минский с соавтором доказал, что такой одинокий перцептрон не справляется с нелинейными данными. Ну то есть, перцептрон &ndash; это все равно линейная модель, которая не умеет ничего, кроме рисования полосочек. Но что, если взять несколько полосочек и совместить их? \n",
    "\n",
    "Окей, если мы возьмем два нейрона (без активации) и тупо их соединим, или хоть два миллиона, на самом деле это все равно будет линейная модель, потому что можно уравнения преобразовать, раскрыть там скобочки и все равно получить условное $k \\cdot x + b$. Но если между ними добавятся нелинейные функции активации, то уже схлопнуть все в линейную модель не получится. \n",
    "\n",
    "Соответственно, многослойный перцептрон (Multilayer Perceptron, MLP) &ndash; самый простой вариант полноценной нейронной сетки, который состоит из нескольких слоев, сообщающихся друг с другом. Эти слои:\n",
    "\n",
    "- входной слой (input layer), тот, который получает данные на вход;\n",
    "- скрытые слои (hidden layers), все, что между входом и выходом;\n",
    "- выходной слой (output layer), выдает результат. \n",
    "\n",
    "Тут уже пора перейти к типам слоев. "
   ]
  },
  {
   "cell_type": "markdown",
   "id": "3efdcafb-b9ed-486c-ace6-b41e85d63ec6",
   "metadata": {},
   "source": [
    "#### Полносвязный слой (Fully connected, FC)\n",
    "\n",
    "Полносвязный слой &ndash; это такой слой нейронов, где выходы из *всех* нейронов (предыдущего слоя) приходят на вход ко *всем* нейронам. \n",
    "\n",
    "- на входе $n$ чисел, на выходе $m$ чисел. Они необязательно совпадают, может быть любое больше или меньше другого;\n",
    "- $x_1, x_2, ..., x_n$ &ndash; входы;\n",
    "- $z_1, z_2, ..., z_m$ &ndash; выходы;\n",
    "- Каждый выход &ndash; линейная модель над входами:\n",
    "\n",
    "$z_j = \\sum\\limits_{i=1}^{n}w_{ji}x_i + b_i$\n",
    "\n",
    "Итого в полносвязном слое $m \\cdot n$ параметров. "
   ]
  },
  {
   "cell_type": "markdown",
   "id": "1183ffab-631b-46bc-baa3-2740054eee12",
   "metadata": {},
   "source": [
    "## Функции активации\n",
    "\n",
    "Итак, на выходах каждого слоя НС обязательно должна быть функция активации. Она должна быть нелинейная (чтобы сеть могла работать с нелинейными данными) и желательно дифференцируемая: потому что когда мы делаем бэкпроп, мы считаем производные и для функции активации тоже. \n",
    "\n",
    "[Полный список на вики](https://en.wikipedia.org/wiki/Activation_function)\n",
    "\n",
    "Классическая функция активации &ndash; сигмоида: $\\sigma(x) = \\frac{1}{1 + e^{-x}}$\n",
    "\n",
    "График сигмоиды, как известно:"
   ]
  },
  {
   "cell_type": "code",
   "execution_count": 26,
   "id": "c919fd8c-e0b0-491b-b750-699a249bc781",
   "metadata": {},
   "outputs": [
    {
     "data": {
      "image/png": "[encoded data removed]",
      "text/plain": [
       "<Figure size 432x288 with 1 Axes>"
      ]
     },
     "metadata": {
      "needs_background": "light"
     },
     "output_type": "display_data"
    }
   ],
   "source": [
    "import matplotlib.pyplot as plt\n",
    "import numpy as np\n",
    "import math\n",
    "  \n",
    "x = np.linspace(-5, 5, 50)\n",
    "z = 1/(1 + np.exp(-x))\n",
    "\n",
    "fig, ax = plt.subplots()\n",
    "ax.plot(x, z)\n",
    "ax.set_ylim([-1, 1])\n",
    "plt.xlabel(\"x\")\n",
    "plt.ylabel(\"Sigmoid(X)\")\n",
    "ax.grid(True, which='both')\n",
    "ax.axhline(y=0, color='k')\n",
    "ax.axvline(x=0, color='k')\n",
    "  \n",
    "plt.show()"
   ]
  },
  {
   "cell_type": "markdown",
   "id": "fd76e7f2-4a1b-4c9e-b287-3c38c9022362",
   "metadata": {},
   "source": [
    "Хорошая нелинейная функция, ее основной недостаток &ndash; на больших по модулю значениях, типа (-)100, ее производная будет практически лежать, а значит, градиент будет очень маленьким числом. Этот артефакт называется *затухание градиентов* и для больших архитектур делает сигмоиду непригодной (может наступить *паралич сети*).\n",
    "\n",
    "Соответственно, недостатки сигмоиды:\n",
    " \n",
    "- <font color='red'>Затухание градиента</font>\n",
    "- <font color='red'>Не центрирована относительно нуля</font>\n",
    "- <font color='red'>Вычислять градиент дорого</font>"
   ]
  },
  {
   "cell_type": "markdown",
   "id": "3960bf62-dfe9-461a-99ea-72d67189b22b",
   "metadata": {},
   "source": [
    "Другой вариант активации &ndash; тангенс tanh:"
   ]
  },
  {
   "cell_type": "code",
   "execution_count": 27,
   "id": "02a4b4c5-34c9-4613-a822-6357acf90f11",
   "metadata": {},
   "outputs": [
    {
     "data": {
      "image/png": "[encoded data removed]",
      "text/plain": [
       "<Figure size 432x288 with 1 Axes>"
      ]
     },
     "metadata": {
      "needs_background": "light"
     },
     "output_type": "display_data"
    }
   ],
   "source": [
    "x = np.linspace(-5, 5, 50)\n",
    "z = (np.exp(x) - np.exp(-x)) / (np.exp(x) + np.exp(-x))\n",
    "  \n",
    "fig, ax = plt.subplots()\n",
    "ax.plot(x, z)\n",
    "ax.set_ylim([-1, 1])\n",
    "plt.xlabel(\"x\")\n",
    "plt.ylabel(\"tanh(X)\")\n",
    "ax.grid(True, which='both')\n",
    "ax.axhline(y=0, color='k')\n",
    "ax.axvline(x=0, color='k')\n",
    "  \n",
    "plt.show()"
   ]
  },
  {
   "cell_type": "markdown",
   "id": "5ec2848e-805b-4dd3-8ae9-f672184093bf",
   "metadata": {},
   "source": [
    "- <font color='green'>Центрирован относительно нуля</font>\n",
    "- <font color='red'>Все еще похож на сигмоиду</font>\n",
    "- <font color='red'>Все равно будет затухать градиент, даже еще сильнее</font>"
   ]
  },
  {
   "cell_type": "markdown",
   "id": "f3155b47-6e07-4f0e-998b-acaf4bf4a6b7",
   "metadata": {},
   "source": [
    "Куда лучше ReLU (Rectified linear unit (ReLU), который выглядит следующим образом:"
   ]
  },
  {
   "cell_type": "code",
   "execution_count": 28,
   "id": "82a189e2-1a99-466c-9a7b-8459395e562d",
   "metadata": {},
   "outputs": [
    {
     "data": {
      "image/png": "[encoded data removed]",
      "text/plain": [
       "<Figure size 432x288 with 1 Axes>"
      ]
     },
     "metadata": {
      "needs_background": "light"
     },
     "output_type": "display_data"
    }
   ],
   "source": [
    "x = np.linspace(-5, 5, 50)\n",
    "z = np.maximum(x, 0)\n",
    "  \n",
    "fig, ax = plt.subplots()\n",
    "ax.plot(x, z)\n",
    "ax.set_ylim([-1, 1])\n",
    "plt.xlabel(\"x\")\n",
    "plt.ylabel(\"ReLU(X)\")\n",
    "ax.grid(True, which='both')\n",
    "ax.axhline(y=0, color='k')\n",
    "ax.axvline(x=0, color='k')\n",
    "  \n",
    "plt.show()"
   ]
  },
  {
   "cell_type": "markdown",
   "id": "c248e778-f2b3-4b03-8865-cdfe34b6cd20",
   "metadata": {},
   "source": [
    "- <font color='green'>Быстро вычисляется</font>\n",
    "- <font color='green'>Градиент не затухает</font>\n",
    "- <font color='green'>Сходимость сеток ускоряется</font>\n",
    "- <font color='red'>Сетка может умереть, если активация занулится на всех нейронах</font>\n",
    "- <font color='red'>Не центрирован относительно нуля</font>\n",
    "- <font color='red'>Если $w_0$ инициализировано большим отрицательным числом, нейрон сразу умирает ⇒ надо аккуратно инициализировать веса</font>"
   ]
  },
  {
   "cell_type": "markdown",
   "id": "abfae5e1-568a-4759-8de8-e0de0f44d226",
   "metadata": {},
   "source": [
    "Leaky ReLU:"
   ]
  },
  {
   "cell_type": "code",
   "execution_count": 29,
   "id": "330801f4-76a7-4160-b38f-5fe14c7e4669",
   "metadata": {},
   "outputs": [
    {
     "data": {
      "image/png": "[encoded data removed]",
      "text/plain": [
       "<Figure size 432x288 with 1 Axes>"
      ]
     },
     "metadata": {
      "needs_background": "light"
     },
     "output_type": "display_data"
    }
   ],
   "source": [
    "x = np.linspace(-5, 5, 50)\n",
    "a = 0.01\n",
    "z = np.maximum(a*x, x)\n",
    "  \n",
    "fig, ax = plt.subplots()\n",
    "ax.plot(x, z)\n",
    "ax.set_ylim([-1, 1])\n",
    "plt.xlabel(\"x\")\n",
    "plt.ylabel(\"Leaky ReLU(X)\")\n",
    "ax.grid(True, which='both')\n",
    "ax.axhline(y=0, color='k')\n",
    "ax.axvline(x=0, color='k')\n",
    "  \n",
    "plt.show()"
   ]
  },
  {
   "cell_type": "markdown",
   "id": "3ef82b9f-59d2-4989-80eb-94442763ca53",
   "metadata": {},
   "source": [
    "- <font color='green'>Как ReLU, но не умирает, всё ещё легко считается</font>\n",
    "- <font color='green'>Производная может быть любого знака</font>\n",
    "- Важно, чтобы 𝑎 ≠ 1, иначе линейность"
   ]
  },
  {
   "cell_type": "markdown",
   "id": "de8d11aa-ddb0-4d47-93f4-d2add17479ac",
   "metadata": {},
   "source": [
    "**Как выбирать функцию активации?**\n",
    "\n",
    "- Обычно начинают с 𝑅𝑒𝐿𝑈, если сетка умирает, берут 𝐿𝑒𝑎𝑘𝑦𝑅𝑒𝐿𝑈\n",
    "- 𝑅𝑒𝐿𝑈 — стандартный выбор для свёрточных сетей\n",
    "- В рекурентных сетках чаще всего предпочитается 𝑡𝑎𝑛ℎ\n",
    "- На самом деле это не очень важно, нужно держать в голове свойства функций, о которых выше шла речь и понимать, что от перебора функций обычно выигрыш в качестве довольно низкий\n",
    "- Но есть и исключения ...\n",
    "\n",
    "[Статья с обзором на архиве](https://arxiv.org/pdf/1804.02763.pdf)"
   ]
  },
  {
   "cell_type": "markdown",
   "id": "b2a87ccf-092f-4445-971b-8ce6a34060d3",
   "metadata": {},
   "source": [
    "## Инициализация весов"
   ]
  },
  {
   "cell_type": "markdown",
   "id": "50b7a778-89d8-4b04-acea-eb0ea271f4ce",
   "metadata": {},
   "source": [
    "От инициализации весов иногда многое зависит (см. выше, нейронка может с места в карьер сдохнуть). Обычно стремятся уменьшить симметрию и инициализируют рандомными числами из какого-нибудь распределения (нормальное, равномерное). \n",
    "\n",
    "Наши признаки 𝑋 пришли к нам из какого-то распределения. Выход слоя 𝑓(𝑋𝑊) будет принадлежать другому распределению. Если инициализировать веса неправильно, дисперсия распределения может от слоя к слою затухать (сигнал будет теряться) либо наоборот, возрастать (сигнал будет рассеиваться). Эмпирически было выяснено, что это может портить сходимость для глубоких сеток. Хочется контролировать дисперсию.\n",
    "\n",
    "В симметричном случае распределение может быть таким:\n",
    "\n",
    "![Distribution](img/6.PNG)\n",
    "\n",
    "(как это читать: диаграммы показывают распределение выходов слоя слева направо, т.е. левые диаграммы после первого слоя, правые &ndash; с конца). "
   ]
  },
  {
   "cell_type": "markdown",
   "id": "e57eed61-5ebe-477f-801f-95c0d651eae5",
   "metadata": {},
   "source": [
    "Выход нейрона перед активацией такой:\n",
    "\n",
    "$h_i = w_0 + \\sum\\limits_{i=1}^{n_{in}}w_i \\cdot x_i$\n",
    "\n",
    "Дисперсия $h_i$ выражается через дисперсии $x$ и $w$, не зависит от константы $w_0$. Как ее вывести:\n",
    "\n",
    "$h = x \\cdot w$ (векторное представление)\n",
    "\n",
    "$Var(h) = E(h - E(h)^2) = E((x \\cdot w - E(x \\cdot w)^2)$ (по определению)\n",
    "\n",
    "$E(x_ \\cdot w) = E(x) \\cdot E(w)$\n",
    "\n",
    "Подставим\n",
    "\n",
    "$Var(h) = E(x^2 \\cdot w^2 - 2 \\cdot x \\cdot w \\cdot E(x) \\cdot E(w) + E(x)^2 \\cdot E(w)^2)$\n",
    "\n",
    "$Var(h) = E(x^2) \\cdot E(w^2) - 2 \\cdot E(x)^2 \\cdot E(w)^2 + E(x)^2 + E(w)^2$\n",
    "\n",
    "С другой стороны, по определению, любая дисперсия любой величины у:\n",
    "\n",
    "$Var(y) = E(y^2) - E(y)^2$ ⇒ $E(y^2) = Var(y) + E(y)^2$\n",
    "\n",
    "Подставляем\n",
    "\n",
    "$Var(h) = (Var(x) + E(x)^2) \\cdot (Var(w) + E(w)^2) - E(x)^2 \\cdot E(w)^2$\n",
    "\n",
    "Раскроем скобки\n",
    "\n",
    "$Var(h) = Var(x) \\cdot Var(w) + Var(x) \\cdot E(w)^2 + E(x)^2) \\cdot Var(w) + \\color{red}{E(x)^2 \\cdot E(w)^2 - E(x)^2 \\cdot E(w)^2}$\n",
    "\n",
    "Выделенная красным часть самоуничтожится, и получится (если уже не в векторном представлении):\n",
    "\n",
    "$Var(h_i) = Var(\\sum\\limits_{i=1}^{n_{in}}w_i \\cdot x_i) = \\sum\\limits_{i=1}^{n_{in}}Var(w_i \\cdot x_i) = \\sum\\limits_{i=1}^{n_{in}}[E(x_i)]^2 \\cdot Var(w_i) + [E(w_i)]^2 \\cdot Var(x_i) + Var(x_i) \\cdot Var(w_i)$\n",
    "\n",
    "Если функция активации предыдущего слоя симметричная, тогда матожидание икса = 0 ($E(x_i) = 0$). Будем инициализировать веса с нулевым средним, тогда и $E(w_i) = 0$.\n",
    "\n",
    "$Var(h_i) = Var(\\sum\\limits_{i=1}^{n_{in}}w_i \\cdot x_i) = \\sum\\limits_{i=1}^{n_{in}}Var(w_i \\cdot x_i) = \\sum\\limits_{i=1}^{n_{in}}[E(x_i)]^2 \\cdot Var(w_i) + [E(w_i)]^2 \\cdot Var(x_i) + Var(x_i) \\cdot Var(w_i) = \\sum\\limits_{i=1}^{n_{in}} Var(x_i) \\cdot Var(w_i) = Var(x_i) \\cdot [n_{in} \\cdot Var(w_i)]$\n",
    "\n",
    "$ [n_{in} \\cdot Var(w_i)] = 1 $ &ndash; нужно, чтобы так было, чтобы дисперсия выхода была примерно равна дисперсии входа"
   ]
  },
  {
   "cell_type": "markdown",
   "id": "be33dd24-121a-47c0-9b63-10ed33e7492d",
   "metadata": {},
   "source": []
  },
  {
   "cell_type": "markdown",
   "id": "59a8fd94-a218-4b3f-8229-bf2e56b7fda9",
   "metadata": {},
   "source": [
    "## Градиентный спуск и его виды"
   ]
  },
  {
   "cell_type": "markdown",
   "id": "de4e7ff3-e8f3-402e-bff5-0df5f824c603",
   "metadata": {},
   "source": [
    "Стандартный градиентный спуск (gradient descent): $ w_i = w_{i-1} - \\eta \\cdot g(w_{i-1})$. Это формула для обновления веса $w_i$. $\\eta$ &ndash; это шаг обучения, learning rate, обычно его выбирают довольно маленьким (типа 0.001).\n",
    "\n",
    "- Полный градиентный спуск: считаем градиенты по всем элементам выборки\n",
    "- Стохастический градиентный спуск (SGD): считаем градиенты на каждом шаге по одному элементы выборки\n",
    "- Мини-батч градиентный спуск (MBGD): считаем градиенты на каждом шаге по батчу (набору элементов из выборки)\n",
    "\n",
    "В чем разница? Есть теорема, что градиентный спуск обязательно сойдется, даже стохастический (просто это случится через миллион лет). Для классического простого случая, когда у нас функция выпуклая (не имеет локальных минимумов), быстрее и стабильнее всего сходится полный градиентный спуск. Стохастический будет сходиться медленнее (но вычислительно он гораздо легче), а по батчу &ndash; нечто среднее. \n",
    "\n",
    "1) <img src='img/3.PNG'> 2) <img src='img/4.PNG'> 3) <img src='img/5.PNG'>\n",
    "\n",
    "Так будет выглядеть спуск для того самого классического случая (побаловаться можно [здесь](https://deeplearning.ai/ai-notes/optimization/)). В первом случае используем полный градиентный спуск со средней скоростью learning rate, во втором случае MBGD с большой скоростью, а в третьем /ndash; SGD с большой скоростью. "
   ]
  },
  {
   "cell_type": "markdown",
   "id": "f03a996d-445b-4b0a-bcf9-5ec87bd15be3",
   "metadata": {},
   "source": [
    "В чем важность learning rate, а также какие проблемы могут возникнуть?"
   ]
  },
  {
   "cell_type": "code",
   "execution_count": 8,
   "id": "c6ad24fb-e513-479b-91b8-c8b979725815",
   "metadata": {},
   "outputs": [
    {
     "data": {
      "image/png": "[encoded data removed]",
      "text/plain": [
       "<Figure size 432x288 with 1 Axes>"
      ]
     },
     "metadata": {
      "needs_background": "light"
     },
     "output_type": "display_data"
    }
   ],
   "source": [
    "# Наша функция f(x)\n",
    "func = lambda x: x ** 3 - 2 * x ** 2 + 2\n",
    "\n",
    "# Производная функции f(x)\n",
    "d_func = lambda x: 3 * x ** 2 - 4 * x\n",
    "\n",
    "# Сделаем массив из 1000 элементов от -3 до 3\n",
    "x = np.linspace(-3, 3, 1000)\n",
    "\n",
    "# Определим границы по y для графика\n",
    "plt.ylim([-1, 3])\n",
    "plt.plot(x, func(x))\n",
    "plt.show()"
   ]
  },
  {
   "cell_type": "code",
   "execution_count": 9,
   "id": "cee64ee0-e16c-423e-8193-dc77a9459b79",
   "metadata": {},
   "outputs": [],
   "source": [
    "def find_minimum_first_order(\n",
    "    learning_rate=0.01,\n",
    "    eps=1e-4,\n",
    "    max_iterations=1000,\n",
    "    anneal_learning_rate=None\n",
    "):\n",
    "    '''Определим функцию для оптимизации, которая должна принимать на вход learning rate, максимальное количество итераций'''\n",
    "    i = 0\n",
    "    x_old, x_new = 0, 2\n",
    "    # Будем сохранятся обновлённые значения x и y\n",
    "    x_list, y_list = [x_old], [func(x_old)]\n",
    "    if not anneal_learning_rate:\n",
    "        anneal_learning_rate = lambda lr, step: lr\n",
    "    # TODO:\n",
    "    # Your code here\n",
    "    # --------------\n",
    "    while abs(x_new - x_old) > eps and i < max_iterations:\n",
    "        # Получим learning rate для текущей итерации\n",
    "        learning_rate = anneal_learning_rate(learning_rate, step=i)\n",
    "        # Обновим x_old\n",
    "        x_old = x_new\n",
    "        # Сделаем один шаг gradient descent\n",
    "        x_new = x_old - learning_rate * d_func(x_old)\n",
    "        # Добавим новые значения для визуализации сходимости\n",
    "        x_list.append(x_new)\n",
    "        y_list.append(func(x_new))\n",
    "        i += 1\n",
    "    # --------------\n",
    "    print(\"Найденный локальный минимум:\", x_new)\n",
    "    print(\"Количество шагов:\", len(x_list))\n",
    "    # Визуализируем сходимость\n",
    "    plt.figure(figsize=[6, 4])\n",
    "    plt.ylim([-3, 8])\n",
    "    plt.scatter(x_list, y_list, c=\"r\", edgecolors='k')\n",
    "    plt.plot(x_list, y_list, c=\"r\")\n",
    "    plt.plot(x, func(x), c=\"b\")\n",
    "    plt.title(\"Descent trajectory\")\n",
    "    plt.show()"
   ]
  },
  {
   "cell_type": "code",
   "execution_count": 10,
   "id": "cc538f46-fd76-4eda-8faa-0e020420514a",
   "metadata": {},
   "outputs": [
    {
     "name": "stdout",
     "output_type": "stream",
     "text": [
      "Найденный локальный минимум: 1.3577577123861129\n",
      "Количество шагов: 729\n"
     ]
    },
    {
     "data": {
      "image/png": "[encoded data removed]",
      "text/plain": [
       "<Figure size 432x288 with 1 Axes>"
      ]
     },
     "metadata": {
      "needs_background": "light"
     },
     "output_type": "display_data"
    }
   ],
   "source": [
    "find_minimum_first_order(0.001)"
   ]
  },
  {
   "cell_type": "code",
   "execution_count": 11,
   "id": "4fb9bacf-3a95-4d36-b692-92b172d33a66",
   "metadata": {},
   "outputs": [
    {
     "name": "stdout",
     "output_type": "stream",
     "text": [
      "Найденный локальный минимум: 1.3356881625009205\n",
      "Количество шагов: 129\n"
     ]
    },
    {
     "data": {
      "image/png": "[encoded data removed]",
      "text/plain": [
       "<Figure size 432x288 with 1 Axes>"
      ]
     },
     "metadata": {
      "needs_background": "light"
     },
     "output_type": "display_data"
    }
   ],
   "source": [
    "find_minimum_first_order(0.01)"
   ]
  },
  {
   "cell_type": "code",
   "execution_count": 12,
   "id": "d072248d-8949-40ed-af11-631aa5468c2e",
   "metadata": {},
   "outputs": [
    {
     "name": "stdout",
     "output_type": "stream",
     "text": [
      "Найденный локальный минимум: 1.3333495713163788\n",
      "Количество шагов: 8\n"
     ]
    },
    {
     "data": {
      "image/png": "[encoded data removed]",
      "text/plain": [
       "<Figure size 432x288 with 1 Axes>"
      ]
     },
     "metadata": {
      "needs_background": "light"
     },
     "output_type": "display_data"
    }
   ],
   "source": [
    "find_minimum_first_order(0.3)"
   ]
  },
  {
   "cell_type": "markdown",
   "id": "6eece782-e030-4639-bf94-8ff56f80ed57",
   "metadata": {},
   "source": [
    "Хотя большой learning rate опасен возможностью overflow (улетим в бесконечность), у него есть ряд преимуществ. Чем больше темп обучения, тем большие расстояния мы преодолеваем за один шаг и тем выше вероятность быстрее найти хорошее пространство локальных минимумов.\n",
    "\n",
    "Хорошая стратегия — начинать с достаточно большого шага (чтобы хорошо попутешествовать по функции), а потом постепенно его уменьшать, чтобы стабилизировать процесс обучения в каком-то локальном минимуме."
   ]
  },
  {
   "cell_type": "code",
   "execution_count": 13,
   "id": "4febf2fd-8252-41a7-ab63-6c52348ff363",
   "metadata": {},
   "outputs": [
    {
     "name": "stdout",
     "output_type": "stream",
     "text": [
      "Найденный локальный минимум: 1.294744839667743\n",
      "Количество шагов: 7\n"
     ]
    },
    {
     "data": {
      "image/png": "[encoded data removed]",
      "text/plain": [
       "<Figure size 432x288 with 1 Axes>"
      ]
     },
     "metadata": {
      "needs_background": "light"
     },
     "output_type": "display_data"
    }
   ],
   "source": [
    "find_minimum_first_order(0.6, anneal_learning_rate=lambda lr, step: 0.3 * lr)"
   ]
  },
  {
   "cell_type": "markdown",
   "id": "178c69a7-d597-45de-b9bf-a2f0fe4f6ae7",
   "metadata": {},
   "source": [
    "Описания ниже сперты у Кантонистовой\n",
    "\n",
    "### SGD\n",
    "SGD - этот же самый gradient descent, что мы рассматривали ранее, вот только подсчёт градиентов производится не по всему множеству данных, а по отдельно взятому сэмплу. Очевидно, такая оптимизация будет очень шумной, что усложнит обучение модели. Поэтому обычно используют MiniBatch-SGD, где вместо одного сэмпла мы берём $k$ семплов. У такого подхода есть несколько плюсов:\n",
    "\n",
    "* ниже variance в сравнении с обычным SGD, что приводит к более стабильному процессу оптимизации\n",
    "* хорошо работает с DL библиотеками, так как теперь мы работаем с матрицами\n",
    "\n",
    "$$\n",
    "\\begin{eqnarray}\n",
    "g &=& \\frac{1}{m}\\nabla_w \\sum_i L(f(x_{i};w), y_{i}) \\\\\n",
    "w &=& w - \\eta \\times g\n",
    "\\end{eqnarray}\n",
    "$$\n",
    "\n",
    "### SGD with Momentum\n",
    "\n",
    "<img src=\"img/Momentum.png\" width=\"600\">\n",
    "\n",
    "Попытаемся добавить SGD эффект инерции. Теперь, вместо того чтобы двигаться строго в направлении градиента в каждой точке, мы стараемся продолжить движение в том же направлении, в котором двигались ранее. То есть у нашей точки, которая спускается по многомерной поверхности, появляется импульс (momentum), который контролируется при помощи параметра $\\alpha$. Он определяет какую часть прошлого градиента мы хотим использовать на текущем шаге.\n",
    "$$\n",
    "\\begin{eqnarray}\n",
    "g_{t} &=& \\alpha g_{t-1} + \\eta \\frac{1}{m}\\nabla_w \\sum_i L(f(x_{i};w), y_{i}) \\\\\n",
    "w &=& w - \\eta \\times g\n",
    "\\end{eqnarray}\n",
    "$$\n",
    "\n",
    "## Адаптивные варианты градиентного спуска\n",
    "Во всех предыдущих алгоритмах у нас был фиксированный learning rate. Начиная с Adagrad у нас будут идти алгоритмы, которые подстраивают learning rate в зависимости от обучения. Они называются адаптивными вариантами градиентного спуска.\n",
    "\n",
    "Адаптивные варианты градиентного спуска подстраивает темп обучения таким образом, чтобы делать большие или маленькие обновления отдельных параметров. Например, может так сложиться, что некоторые веса близки к своим локальным минимумам, тогда по этим координатам нужно двигаться медленнее, а другие веса ещё только в середине, значит их можно менять гораздо быстрее. Подобные методы часты приводят к более обоснованной модели и сходятся гораздо быстрее.\n",
    "\n",
    "### Adagrad\n",
    "$$\n",
    "\\begin{eqnarray}\n",
    "g &=& \\frac{1}{m}\\nabla_w \\sum_i L(f(x_{i};w), y_{i}) \\\\\n",
    "s &=& s + diag(gg^{T}) \\\\\n",
    "w &=& w - \\frac{\\eta}{\\sqrt{s+eps}} \\odot g\n",
    "\\end{eqnarray}\n",
    "$$\n",
    "Теперь нам не нужно сильно волноваться о правильном подборе $\\eta$, так как $s$ контролирует скорость обучения для каждого параметра.\n",
    "\n",
    "### RMSprop\n",
    "У Adagrad есть сильный минус. $s$ - всегда положительна и постоянно растёт во время обучения, что приводит к ситуации, когда у нас learning rate становится слишком маленький, и мы перестаём учиться. RMSprop исправляет эту проблему при помощи экспоненциального сглаживания\n",
    "$$\n",
    "\\begin{eqnarray}\n",
    "g &=& \\frac{1}{m}\\nabla_w \\sum_i L(f(x_{i};w), y_{i}) \\\\\n",
    "s &=& \\rho s + (1 - \\rho) diag(gg^{T}) \\\\\n",
    "w &=& w - \\frac{\\eta}{\\sqrt{s+eps}} \\odot g\n",
    "\\end{eqnarray}\n",
    "$$\n",
    "\n",
    "### Adam\n",
    "Добавим не только моменты второго порядка, но и первого при обновлении параметров\n",
    "$$\n",
    "\\begin{eqnarray}\n",
    "g &=& \\frac{1}{m}\\nabla_w \\sum_i L(f(x_{i};w), y_{i}) \\\\\n",
    "m &=& \\beta_1 m + (1 - \\beta_1) g \\\\\n",
    "v &=& \\beta_2 v + (1 - \\beta_2) diag(gg^{T}) \\\\\n",
    "\\hat{m} &=& \\frac{m}{1 - \\beta_1^{t}} \\\\\n",
    "\\hat{v} &=& \\frac{v}{1 - \\beta_2^{t}} \\\\\n",
    "w &=& w - \\frac{\\eta}{\\sqrt{\\hat{v} + \\epsilon}} \\odot \\hat{m}\n",
    "\\end{eqnarray}\n",
    "$$\n",
    "\n",
    "### AdamW\n",
    "\n",
    "Это Адам с затуханием весов (weight decay). Подробнее можно прочитать [тут](https://towardsdatascience.com/why-adamw-matters-736223f31b5d).\n",
    "\n",
    "### Схема\n",
    "<div>\n",
    "<img src=\"img/Modifications.png\" width=\"300\"/>\n",
    "</div>"
   ]
  },
  {
   "cell_type": "code",
   "execution_count": null,
   "id": "b7403633-3e9c-4c08-9d74-a7adc4d3d231",
   "metadata": {},
   "outputs": [],
   "source": []
  }
 ],
 "metadata": {
  "kernelspec": {
   "display_name": "Python 3 (ipykernel)",
   "language": "python",
   "name": "python3"
  },
  "language_info": {
   "codemirror_mode": {
    "name": "ipython",
    "version": 3
   },
   "file_extension": ".py",
   "mimetype": "text/x-python",
   "name": "python",
   "nbconvert_exporter": "python",
   "pygments_lexer": "ipython3",
   "version": "3.8.10"
  }
 },
 "nbformat": 4,
 "nbformat_minor": 5
}
