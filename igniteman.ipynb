{
 "cells": [
  {
   "cell_type": "markdown",
   "id": "aac0b902-0128-4499-966c-072ea570edb3",
   "metadata": {},
   "source": [
    "**Импорты**"
   ]
  },
  {
   "cell_type": "code",
   "execution_count": null,
   "id": "ea788997-e67a-4e76-bbe8-8381960fbed4",
   "metadata": {},
   "outputs": [],
   "source": [
    "import torch\n",
    "import torch.nn as nn\n",
    "import torch.nn.functional as F\n",
    "import torch.optim as optim\n",
    "\n",
    "from tqdm.auto import tqdm\n",
    "\n",
    "from ignite.engine import create_supervised_evaluator, create_supervised_trainer, Events\n",
    "from ignite.metrics import Accuracy, Loss\n",
    "from ignite.utils import setup_logger"
   ]
  },
  {
   "cell_type": "code",
   "execution_count": null,
   "id": "ce7b8ece-d4ab-4279-903a-96db7f8f53f2",
   "metadata": {},
   "outputs": [],
   "source": [
    "def run(epochs, lr, log_interval):\n",
    "    model = Torchic()\n",
    "    device = 'cpu'\n",
    "    if torch.cuda.is_available():\n",
    "        device = 'cuda'\n",
    "\n",
    "    optimizer = opt.Adam(model.parameters(), lr=lr)\n",
    "    criterion = nn.CrossEntropyLoss()\n",
    "    trainer = create_supervised_trainer(model, optimizer, criterion, device=device)\n",
    "    trainer.logger = setup_logger('trainer')\n",
    "\n",
    "    val_metrics = {'accuracy': Accuracy(), 'cre': Loss(criterion)}\n",
    "    evaluator = create_supervised_evaluator(model, metrics=val_metrics, device=device)\n",
    "    evaluator.logger = setup_logger('evaluator')\n",
    "\n",
    "    pbar = tqdm(initial=0, leave=False, total=len(train_dataloader), desc=f\"ITERATION - loss: {0:.2f}\")\n",
    "\n",
    "    @trainer.on(Events.ITERATION_COMPLETED(every=log_interval))\n",
    "    def log_training_loss(engine):\n",
    "        pbar.desc = f'Iteration - loss: {engine.state.output:.2f}'\n",
    "        pbar.update(log_interval)\n",
    "\n",
    "    @trainer.on(Events.EPOCH_COMPLETED)\n",
    "    def log_training_results(engine):\n",
    "        evaluator.run(val_dataloader)\n",
    "        metrics = evaluator.state.metrics\n",
    "        avg_accuracy = metrics['accuracy']\n",
    "        avg_cre = metrics['cre']\n",
    "        tqdm.write(\n",
    "            f\"Validation Results - Epoch: {engine.state.epoch} Avg accuracy: {avg_accuracy:.2f} Avg loss: {avg_cre:.2f}\"\n",
    "        )\n",
    "        pbar.n = pbar.last_print_n = 0\n",
    "\n",
    "    @trainer.on(Events.EPOCH_COMPLETED | Events.COMPLETED)\n",
    "    def log_time(engine):\n",
    "        tqdm.write(f\"{trainer.last_event_name.name} took { trainer.state.times[trainer.last_event_name.name]} seconds\")\n",
    "\n",
    "    trainer.run(train_dataloader, max_epochs=epochs)\n",
    "    pbar.close()"
   ]
  },
  {
   "cell_type": "code",
   "execution_count": null,
   "id": "2fe2ce9b-aa2a-4482-be5f-2b83bee9e631",
   "metadata": {},
   "outputs": [],
   "source": [
    "run(epochs=10, lr=0.001, log_interval=10)"
   ]
  }
 ],
 "metadata": {
  "kernelspec": {
   "display_name": "Python 3 (ipykernel)",
   "language": "python",
   "name": "python3"
  },
  "language_info": {
   "codemirror_mode": {
    "name": "ipython",
    "version": 3
   },
   "file_extension": ".py",
   "mimetype": "text/x-python",
   "name": "python",
   "nbconvert_exporter": "python",
   "pygments_lexer": "ipython3",
   "version": "3.8.10"
  }
 },
 "nbformat": 4,
 "nbformat_minor": 5
}
