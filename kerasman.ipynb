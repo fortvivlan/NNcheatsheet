{
 "cells": [
  {
   "cell_type": "markdown",
   "id": "087f6d71-2fd0-47d1-be1c-86da86fd9c1f",
   "metadata": {},
   "source": [
    "**Импорты**"
   ]
  },
  {
   "cell_type": "code",
   "execution_count": null,
   "id": "7b38078d-c7d1-4b9f-b728-fe545be168d3",
   "metadata": {},
   "outputs": [],
   "source": [
    "from tensorflow.keras import layers as L         # Уже готовые слои для моделей\n",
    "from tensorflow.keras.models import Sequential   # Специальный класс для склеивания слоёв\n",
    "from tensorflow.keras.models import Model        # Альтернативный класс для склейки слоёв\n",
    "import tensorflow.keras.optimizers as opt        # Разные оптимизационные алгоритмы :3 "
   ]
  },
  {
   "cell_type": "markdown",
   "id": "b90ed4a9-f21d-4a98-93b7-a029cb5a7310",
   "metadata": {},
   "source": [
    "Полносвязная сеть"
   ]
  },
  {
   "cell_type": "code",
   "execution_count": null,
   "id": "fdca7340-a0f5-4bc4-866a-f3eece0551b5",
   "metadata": {},
   "outputs": [],
   "source": [
    "from tensorflow.keras.metrics import Accuracy\n",
    "\n",
    "def get_new_model( ):\n",
    "    acc = Accuracy()\n",
    "\n",
    "    ###########################################################\n",
    "    # Ваш код! \n",
    "    model = Sequential(name = 'Archibald')  # модели можно дать имя!\n",
    "    \n",
    "    # Добавляем в нашу модель первый слой из 25 нейронов\n",
    "    model.add(L.Dense(25, input_dim = X_train.shape[1], kernel_initializer='random_normal'))\n",
    "\n",
    "    # Добавляем функцию активации на первый слой \n",
    "    model.add(L.Activation('sigmoid'))\n",
    "\n",
    "    # Добавляем ещё один слой из 25 нейронов\n",
    "    model.add(L.Dense(25, kernel_initializer='random_normal'))\n",
    "    model.add(L.Activation('sigmoid'))\n",
    "\n",
    "    # На выходе мы должны получить вероятности того, что объект относится к разным классам \n",
    "    # Сделать такое преобразование позволяет softmax как функция активации\n",
    "    # На выход будет идти 4 вероятности по числу классов\n",
    "    model.add(L.Dense(4, activation='softmax', kernel_initializer = 'random_normal'))\n",
    "    \n",
    "    ###########################################################\n",
    "    \n",
    "    # В качестве оптимизации будем использовать Adam\n",
    "    # Это такой специальный градиентный спуск, обсудим его в следущий раз\n",
    "    optimizer = opt.Adam(lr=1e-3)\n",
    "\n",
    "    # Собираем модель\n",
    "    model.compile(loss = 'categorical_crossentropy', \n",
    "                  metrics=['acc'], \n",
    "                  optimizer=optimizer)\n",
    "    \n",
    "    return model"
   ]
  },
  {
   "cell_type": "code",
   "execution_count": null,
   "id": "785a6d5c-c066-4ea2-b4f7-9c614d062d3e",
   "metadata": {},
   "outputs": [],
   "source": [
    "model = get_new_model()"
   ]
  },
  {
   "cell_type": "code",
   "execution_count": null,
   "id": "182f2f16-1510-4924-a512-0eb76f5809bd",
   "metadata": {},
   "outputs": [],
   "source": [
    "model.summary()  # инфа о модели"
   ]
  },
  {
   "cell_type": "code",
   "execution_count": null,
   "id": "851a6f48-660b-408c-9c46-9864fbee1fd9",
   "metadata": {},
   "outputs": [],
   "source": [
    "from tensorflow.keras.utils import to_categorical\n",
    "to_categorical(y)"
   ]
  },
  {
   "cell_type": "code",
   "execution_count": null,
   "id": "6d24b468-6c76-4a18-ac6c-186293a77315",
   "metadata": {},
   "outputs": [],
   "source": [
    "hist = model.fit(X_train, to_categorical(y_train), validation_split=0.2, epochs=30, verbose=1, batch_size=128)"
   ]
  },
  {
   "cell_type": "code",
   "execution_count": null,
   "id": "0b510c9c-41ec-4631-9a2b-2325b7a81b8e",
   "metadata": {},
   "outputs": [],
   "source": [
    "preds = tf.argmax(model.predict(X_train), axis=1)"
   ]
  },
  {
   "cell_type": "markdown",
   "id": "ec14f3e9-7ef4-4789-9bef-32c812666114",
   "metadata": {},
   "source": [
    "Чуть более красивый вариант сборки"
   ]
  },
  {
   "cell_type": "code",
   "execution_count": null,
   "id": "4829f1f8-80c0-4936-99ec-ea47d5caeacf",
   "metadata": {},
   "outputs": [],
   "source": [
    "def get_new_model():\n",
    "    acc = Accuracy()\n",
    "\n",
    "    model = Sequential([\n",
    "        L.Dense(25, input_dim = X_train.shape[1], kernel_initializer='he_normal'),\n",
    "        L.Dropout(0.2),\n",
    "        L.Activation(tf.nn.relu),\n",
    "        L.Dense(25, kernel_initializer='he_normal', activation='ReLU'),\n",
    "        L.Dense(4, activation='softmax', kernel_initializer='random_normal')\n",
    "\n",
    "    ], name = 'First')  \n",
    "\n",
    "    optimizer = opt.Adam(lr=1e-3)\n",
    "\n",
    "    model.compile(loss = 'categorical_crossentropy', \n",
    "                  metrics=['acc'], \n",
    "                  optimizer=optimizer)\n",
    "    \n",
    "    return model"
   ]
  }
 ],
 "metadata": {
  "kernelspec": {
   "display_name": "Python 3 (ipykernel)",
   "language": "python",
   "name": "python3"
  },
  "language_info": {
   "codemirror_mode": {
    "name": "ipython",
    "version": 3
   },
   "file_extension": ".py",
   "mimetype": "text/x-python",
   "name": "python",
   "nbconvert_exporter": "python",
   "pygments_lexer": "ipython3",
   "version": "3.8.10"
  }
 },
 "nbformat": 4,
 "nbformat_minor": 5
}
