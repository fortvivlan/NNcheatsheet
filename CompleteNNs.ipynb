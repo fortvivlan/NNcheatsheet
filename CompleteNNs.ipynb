{
 "cells": [
  {
   "cell_type": "markdown",
   "id": "b74131fd-9900-4973-8743-fa533241f221",
   "metadata": {},
   "source": [
    "# Конспект по нейронным сетям"
   ]
  },
  {
   "cell_type": "markdown",
   "id": "0cd25b87-5d09-41cc-9370-571571d25e0e",
   "metadata": {},
   "source": [
    "<a id='contents'></a>\n",
    "Содержание:\n",
    "\n",
    "- <a href='#base'>Базовые понятия</a>\n",
    "- <a href='#frameworks'>Фреймворки</a> \n",
    "- <a href='#linear'>Линейная модель</a>\n",
    "- <a href='#perceptron'>Перцептрон. Однослойный, многослойный (история)</a>\n",
    "- <a href='#fc'>Полносвязный слой</a>\n",
    "- <a href='#activation'>Функции активации</a>\n",
    "- <a href='#initialisation'>Инициализация весов</a>\n",
    "- <a href='#gradients'>Градиентный спуск</a>\n",
    "- <a href='#loss'>Функционал ошибки и его виды</a>\n",
    "- <a href='#norm'>Нормализация</a>\n",
    "- <a href='#dropout'>Дропаут</a>\n",
    "- <a href='#smoothing'>Label smoothing</a>\n",
    "- <a href='#conv'>CNN, сверточный слой</a>"
   ]
  },
  {
   "cell_type": "markdown",
   "id": "c02392f3-6d67-4e72-b980-f67b360b9df6",
   "metadata": {},
   "source": [
    "**Нейронная сеть** &ndash; это граф вычислений (DAG, Directed Acyclic Graph) \n",
    "\n",
    "То есть, по сути, мы просто собираем кучу функций в один связный направленный граф, по которому машина потом считает. \n",
    "\n",
    "*Императивный подход* vs *символьный подход*:\n",
    "\n",
    "- в императивном подходе сразу считаем все\n",
    "- в символьном подходе сперва задаем граф вычислений, а потом считаем\n",
    "\n",
    "Выгода заранее заданного графа вычислений: некоторые вещи (градиенты) не приходится считать по мильену раз. "
   ]
  },
  {
   "cell_type": "markdown",
   "id": "77fdc615-9133-4d25-b725-a103cfdf50f9",
   "metadata": {},
   "source": [
    "<a id='base'></a>\n",
    "***"
   ]
  },
  {
   "cell_type": "markdown",
   "id": "3588a5cb-e618-4e67-8919-86e15e9624fe",
   "metadata": {
    "jp-MarkdownHeadingCollapsed": true,
    "tags": []
   },
   "source": [
    "**Базовые понятия**\n",
    "\n",
    "Граф вычислений &ndash; структура, по которой будет вычисляться сеть\n",
    "\n",
    "Нейрон &ndash; линейная функция, получающая данные на вход, преобразующая их ($w \\cdot x + b$) и возвращающая результат\n",
    "\n",
    "Функция активации &ndash; (нелинейная) функция, которая преобразует выходящий из нейрона сигнал\n",
    "\n",
    "Веса сети &ndash; или *параметры*: те самые $w_i$, все, что должно изменяться в процессе обучения с помощью градиентного спуска\n",
    "\n",
    "Слой &ndash; набор нейронов, которые все получают одни инпуты и выдают какие-то аутпуты через функцию активации\n",
    "\n",
    "forward (прямой проход) &ndash; пробрасывание каких-то данных на вход через весь граф вычислений\n",
    "\n",
    "backprop(agation), бэкпроп &ndash; вычисление градиентов для обновления весов сети\n",
    "\n",
    "Функционал ошибки (loss) &ndash; разница между предсказанным и истинным ответом, может быть выражена разными функциями (для разных задач)\n",
    "\n",
    "Метрика &ndash; способ оценки качества работы НС, может совпадать по формуле с лоссом, но не обязано\n",
    "\n",
    "Градиентный спуск &ndash; метод поиска минимума функции потерь (loss)"
   ]
  },
  {
   "cell_type": "markdown",
   "id": "1d7d021b-4d9f-42be-aca3-48d1a66a08fb",
   "metadata": {},
   "source": [
    "<a href='#contents'>К содержанию</a>"
   ]
  },
  {
   "cell_type": "markdown",
   "id": "7a21b5cb-a5d2-489b-95f6-353c063892c4",
   "metadata": {},
   "source": [
    "<a id='frameworks'></a>\n",
    "***"
   ]
  },
  {
   "cell_type": "markdown",
   "id": "7a522df3-ff51-4ba7-9715-385a24db12e8",
   "metadata": {},
   "source": [
    "**Фреймворки**:\n",
    "\n",
    "- Tensorflow + Keras: [тетрадка по керасу](kerasman.ipynb)\n",
    "- PyTorch: [тетрадка по торчу](torchman.ipynb), а также [тетрадка по ignite](igniteman.ipynb) &ndash; библиотеке над торчом\n",
    "- AllenNLP\n",
    "\n",
    "[Статья на хабре про разницу между ними и про торч](https://habr.com/ru/post/334380/)\n",
    "\n",
    "*Фиксированные модули*. Такой подход можно сравнить с конструктором Lego: пользователь комбинирует заранее определённые блоки в граф вычислений и запускает его. Прямой и обратный проходы уже зашиты в каждом таком блоке. Определение новых блоков гораздо сложнее использования готовых и требует совершенно иных знаний и умений. Расширяемость близка к нулю, однако если ваши идеи полностью реализуются в таком фреймворке, скорость разработки максимальна. Со скоростью работы, благодаря высокой оптимизированности заранее написанного кода, также не возникает проблем. Типичные представители: Caffe, Caffe2, CNTK, Kaldi, DL4J, Keras (как интерфейс).\n",
    "\n",
    "*Статический граф вычислений*. Эти фреймворки уже можно сравнить с полимерной глиной: на этапе описания возможно создать граф вычислений произвольного размера и сложности, однако после запекания (компиляции) он станет твёрдым и монолитным. Доступными останутся всего два действия: запустить граф в прямом или обратном направлениях. Все такие фреймворки используют декларативный стиль программирования и напоминают функциональный язык или математическую нотацию. С одной стороны, этот подход комбинирует гибкость на этапе разработки и скорость в момент исполнения. С другой стороны, как и в функциональных языках, отладка становится настоящей головной болью, а модели, выходящие за рамки парадигмы, требуют либо титанических усилий, либо здоровенных костылей для реализации. Представители: Theano, TensorFlow, MXNet.\n",
    "\n",
    "*Динамический граф вычислений*. Представьте теперь, что вы можете перестраивать статический граф перед каждым его запуском. Примерно это и происходит в данном классе фреймворков. Только графа как отдельной сущности здесь нет. Он, как и в императивных языках программирования, слишком сложен для явного построения и существует лишь в в момент исполнения. Точнее сказать, граф строится динамически каждый раз при прямом проходе для того, чтобы затем иметь возможность сделать проход обратный. Подобный подход даёт максимальную гибкость и расширяемость, позволяет использовать в вычислениях все возможности используемого языка программирования и не ограничивает пользователя вообще ничем. К этому классу фреймворков как раз и относятся Torch и PyTorch."
   ]
  },
  {
   "cell_type": "markdown",
   "id": "d76c3874-e7fd-4c89-80af-d0a4f4140299",
   "metadata": {},
   "source": [
    "<a href='#contents'>К содержанию</a>"
   ]
  },
  {
   "cell_type": "markdown",
   "id": "01462052-35d4-4df1-a566-f6fb49d9d7d1",
   "metadata": {},
   "source": [
    "<a id='linear'></a>\n",
    "***"
   ]
  },
  {
   "cell_type": "markdown",
   "id": "24d31ad7-9465-43fb-b903-61dface9afa7",
   "metadata": {
    "tags": []
   },
   "source": [
    "#### Немного повторения про машинное обучение и в частности про линейные модели\n",
    "\n",
    "**Линейная модель** &ndash; мы пытаемся построить линейную зависимость между признаками и *целевой переменной* (*ground truth*, $\\hat{y}$) вида $w \\cdot x + b = y$ путем настраивания *весов* $w_1, w_2, ..., w_n$ и *свободного коэффициента*, он же смещение, он же bias $w_0$. Как настроить веса? У нас есть некоторый *функционал ошибки*, н-р, $MSE = \\frac{1}{n}\\sum\\limits_{i=1}^{n}(Y_i - \\hat{Y_i})^2$, то есть, некая разница между предсказанным y и истинным y. Мы должны эту разницу минимизировать. Это уравнение может решаться в матричном виде как $w = (X^T \\cdot X)^{-1} \\cdot X^T \\cdot y$ &ndash; это *аналитическое решение*. Его недостатки: 1) вычислительно дорого 2) имеет решение не для всякого функционала ошибки.\n",
    "\n",
    "Обычно задачу минимизации функционала ошибки решают с помощью *градиентного спуска*. Это *аппроксимация* (поэтому иногда про НС говорят, что это аппроксиматоры), то есть, мы не хотим точно найти ответ на наше уравнение, а только приблизительно. Идея градиентного спуска в том, что касательная к функции в точке $x$ указывает направление ее возрастания (вектор градиента), а антиградиент (т.е. градиент с минусом) &ndash; убывания. Мы находим частные производные по всем весам, которые хотим обновить, и вычитаем их из первоначальных весов. "
   ]
  },
  {
   "cell_type": "markdown",
   "id": "47aa8ad2-0062-47ed-b8a7-541797abab8c",
   "metadata": {},
   "source": [
    "**Причем тут нейронки?**\n",
    "\n",
    "А притом, что НС &ndash; это по существу много скомпонованных линейных моделей. "
   ]
  },
  {
   "cell_type": "markdown",
   "id": "4b48041d-a9e9-4ae4-ba4c-ca3541dde208",
   "metadata": {},
   "source": [
    "<a href='#contents'>К содержанию</a>"
   ]
  },
  {
   "cell_type": "markdown",
   "id": "0d556545-9ef6-44b3-8520-8f33885429e7",
   "metadata": {},
   "source": [
    "<a id='perceptron'></a>\n",
    "***"
   ]
  },
  {
   "cell_type": "markdown",
   "id": "e3c1ba52-7f69-4a2c-b7c0-d5c3981d77b9",
   "metadata": {
    "tags": []
   },
   "source": [
    "#### Перцептроны. Немного истории\n",
    "\n",
    "Перцептрон предложил Ф. Розенблатт в 1957 году в одноименной книге. Схема перцептрона выглядит примерно так:\n",
    "\n",
    "<img src='img/1.PNG' width='400'>\n",
    "\n",
    "Перцептрон получает несколько сигналов, домножает их на веса, складывает со смещениями и потом складывает то, что получилось; если получившаяся сумма больше какого-то порога, сигнал проходит, если нет &ndash; то нет. Соответственно, функция активации перцептрона переводит аутпут в бинарное (-1;1). Это может быть функция шага, знака или сигмоида. \n",
    "\n",
    "<img src='img/2.PNG' width='400'>\n",
    "\n",
    "[Алгоритм обучения перцептрона](https://towardsdatascience.com/perceptron-learning-algorithm-d5db0deab975) был не такой, как сегодня в нейронках:\n",
    "\n",
    "<img src='https://miro.medium.com/max/1032/1*PbJBdf-WxR0Dd0xHvEoh4A.png' width='400'>\n",
    "     \n"
   ]
  },
  {
   "cell_type": "markdown",
   "id": "b636b12b-a2fd-4051-b780-ef58ae04d2b9",
   "metadata": {},
   "source": [
    "Вот перцептрон с сигмоидой и градиентным спуском &ndash; это уже близко к реальности. Но в 1969 году Марвин Минский с соавтором доказал, что такой одинокий перцептрон не справляется с нелинейными данными. Ну то есть, перцептрон &ndash; это все равно линейная модель, которая не умеет ничего, кроме рисования полосочек. Но что, если взять несколько полосочек и совместить их? \n",
    "\n",
    "Окей, если мы возьмем два нейрона (без активации) и тупо их соединим, или хоть два миллиона, на самом деле это все равно будет линейная модель, потому что можно уравнения преобразовать, раскрыть там скобочки и все равно получить условное $k \\cdot x + b$. Но если между ними добавятся нелинейные функции активации, то уже схлопнуть все в линейную модель не получится. \n",
    "\n",
    "Соответственно, многослойный перцептрон (Multilayer Perceptron, MLP) &ndash; самый простой вариант полноценной нейронной сетки, который состоит из нескольких слоев, сообщающихся друг с другом. Эти слои:\n",
    "\n",
    "- входной слой (input layer), тот, который получает данные на вход;\n",
    "- скрытые слои (hidden layers), все, что между входом и выходом;\n",
    "- выходной слой (output layer), выдает результат. \n",
    "\n",
    "Тут уже пора перейти к типам слоев. "
   ]
  },
  {
   "cell_type": "markdown",
   "id": "3b6450fd-288b-4d1e-8e6b-0b4192739d98",
   "metadata": {},
   "source": [
    "<a href='#contents'>К содержанию</a>"
   ]
  },
  {
   "cell_type": "markdown",
   "id": "4e5fc1af-9067-4a36-bd3d-2d837bc2498d",
   "metadata": {},
   "source": [
    "<a id='fc'></a>\n",
    "***"
   ]
  },
  {
   "cell_type": "markdown",
   "id": "3efdcafb-b9ed-486c-ace6-b41e85d63ec6",
   "metadata": {},
   "source": [
    "#### Полносвязный слой (Fully connected, FC, Linear)\n",
    "\n",
    "Полносвязный слой &ndash; это такой слой нейронов, где выходы из *всех* нейронов (предыдущего слоя) приходят на вход ко *всем* нейронам. \n",
    "\n",
    "- на входе $n$ чисел, на выходе $m$ чисел. Они необязательно совпадают, может быть любое больше или меньше другого;\n",
    "- $x_1, x_2, ..., x_n$ &ndash; входы;\n",
    "- $z_1, z_2, ..., z_m$ &ndash; выходы;\n",
    "- Каждый выход &ndash; линейная модель над входами:\n",
    "\n",
    "$z_j = \\sum\\limits_{i=1}^{n}w_{ji}x_i + b_i$\n",
    "\n",
    "Итого в полносвязном слое $m \\cdot n$ параметров. Выглядит он так:\n",
    "\n",
    "<img src='img/fc.PNG' width='300'>\n",
    "\n",
    "Вообще видов слоев очень много:\n",
    "\n",
    "<img src='img/torchlayers.PNG' width='600'>"
   ]
  },
  {
   "cell_type": "markdown",
   "id": "b4f9516d-35e4-49d3-a988-767120e4a899",
   "metadata": {},
   "source": [
    "<a href='#contents'>К содержанию</a>"
   ]
  },
  {
   "cell_type": "markdown",
   "id": "1fa13795-1ff6-4589-b3ad-3889c522785e",
   "metadata": {},
   "source": [
    "<a id='activation'></a>\n",
    "***"
   ]
  },
  {
   "cell_type": "markdown",
   "id": "073ff973-df73-44a5-a870-dbf581cb6918",
   "metadata": {},
   "source": [
    "## Функции активации"
   ]
  },
  {
   "cell_type": "code",
   "execution_count": 10,
   "id": "f611296c-af43-46ba-91b2-c7e18447ccf5",
   "metadata": {
    "jupyter": {
     "source_hidden": true
    },
    "tags": []
   },
   "outputs": [],
   "source": [
    "import matplotlib.pyplot as plt\n",
    "import numpy as np\n",
    "import math\n",
    "\n",
    "def funcplot(func, name):\n",
    "    x = np.linspace(-5, 5, 50)\n",
    "    z = func\n",
    "    fig, ax = plt.subplots()\n",
    "    ax.grid(True, which='both')\n",
    "    ax.axhline(y=0, color='k')\n",
    "    ax.axvline(x=0, color='k')\n",
    "    ax.set_ylim([-1, 1])\n",
    "    plt.xlabel('x')\n",
    "    plt.ylabel(name)\n",
    "    ax.plot(x, z, '-c')\n",
    "\n",
    "    plt.show()"
   ]
  },
  {
   "cell_type": "markdown",
   "id": "1183ffab-631b-46bc-baa3-2740054eee12",
   "metadata": {},
   "source": [
    "Итак, на выходах каждого слоя НС обязательно должна быть функция активации. Она должна быть нелинейная (чтобы сеть могла работать с нелинейными данными) и желательно дифференцируемая: потому что когда мы делаем бэкпроп, мы считаем производные и для функции активации тоже. \n",
    "\n",
    "[Полный список на вики](https://en.wikipedia.org/wiki/Activation_function)\n",
    "\n",
    "Классическая функция активации &ndash; сигмоида: $\\sigma(x) = \\frac{1}{1 + e^{-x}}$\n",
    "\n",
    "График сигмоиды, как известно:"
   ]
  },
  {
   "cell_type": "code",
   "execution_count": 11,
   "id": "c919fd8c-e0b0-491b-b750-699a249bc781",
   "metadata": {},
   "outputs": [
    {
     "data": {
      "image/png": "[encoded data removed]",
      "text/plain": [
       "<Figure size 432x288 with 1 Axes>"
      ]
     },
     "metadata": {
      "needs_background": "light"
     },
     "output_type": "display_data"
    }
   ],
   "source": [
    "funcplot(1/(1 + np.exp(-x)), 'Sigmoid(X)')"
   ]
  },
  {
   "cell_type": "markdown",
   "id": "fd76e7f2-4a1b-4c9e-b287-3c38c9022362",
   "metadata": {},
   "source": [
    "Хорошая нелинейная функция, ее основной недостаток &ndash; на больших по модулю значениях, типа (-)100, ее касательная будет практически лежать, а значит, градиент будет очень маленьким числом. Этот артефакт называется *затухание градиентов* и для больших архитектур делает сигмоиду непригодной (может наступить *паралич сети*).\n",
    "\n",
    "Соответственно, недостатки сигмоиды:\n",
    " \n",
    "- <font color='red'>Затухание градиента</font>\n",
    "- <font color='red'>Не центрирована относительно нуля</font>\n",
    "- <font color='red'>Вычислять градиент дорого</font>"
   ]
  },
  {
   "cell_type": "markdown",
   "id": "3960bf62-dfe9-461a-99ea-72d67189b22b",
   "metadata": {},
   "source": [
    "Другой вариант активации &ndash; тангенс tanh:"
   ]
  },
  {
   "cell_type": "code",
   "execution_count": 12,
   "id": "02a4b4c5-34c9-4613-a822-6357acf90f11",
   "metadata": {},
   "outputs": [
    {
     "data": {
      "image/png": "[encoded data removed]",
      "text/plain": [
       "<Figure size 432x288 with 1 Axes>"
      ]
     },
     "metadata": {
      "needs_background": "light"
     },
     "output_type": "display_data"
    }
   ],
   "source": [
    "funcplot((np.exp(x) - np.exp(-x)) / (np.exp(x) + np.exp(-x)), 'tanh(X)')"
   ]
  },
  {
   "cell_type": "markdown",
   "id": "5ec2848e-805b-4dd3-8ae9-f672184093bf",
   "metadata": {},
   "source": [
    "- <font color='green'>Центрирован относительно нуля</font>\n",
    "- <font color='red'>Все еще похож на сигмоиду</font>\n",
    "- <font color='red'>Все равно будет затухать градиент, даже еще сильнее</font>"
   ]
  },
  {
   "cell_type": "markdown",
   "id": "f3155b47-6e07-4f0e-998b-acaf4bf4a6b7",
   "metadata": {},
   "source": [
    "Куда лучше ReLU (Rectified linear unit (ReLU), который выглядит следующим образом:"
   ]
  },
  {
   "cell_type": "code",
   "execution_count": 13,
   "id": "82a189e2-1a99-466c-9a7b-8459395e562d",
   "metadata": {},
   "outputs": [
    {
     "data": {
      "image/png": "[encoded data removed]",
      "text/plain": [
       "<Figure size 432x288 with 1 Axes>"
      ]
     },
     "metadata": {
      "needs_background": "light"
     },
     "output_type": "display_data"
    }
   ],
   "source": [
    "funcplot(np.maximum(x, 0), 'ReLU(X)')"
   ]
  },
  {
   "cell_type": "markdown",
   "id": "c248e778-f2b3-4b03-8865-cdfe34b6cd20",
   "metadata": {},
   "source": [
    "- <font color='green'>Быстро вычисляется</font>\n",
    "- <font color='green'>Градиент не затухает</font>\n",
    "- <font color='green'>Сходимость сеток ускоряется</font>\n",
    "- <font color='red'>Сетка может умереть, если активация занулится на всех нейронах</font>\n",
    "- <font color='red'>Не центрирован относительно нуля</font>\n",
    "- <font color='red'>Если $w_0$ инициализировано большим отрицательным числом, нейрон сразу умирает ⇒ надо аккуратно инициализировать веса</font>"
   ]
  },
  {
   "cell_type": "markdown",
   "id": "abfae5e1-568a-4759-8de8-e0de0f44d226",
   "metadata": {},
   "source": [
    "Leaky ReLU:"
   ]
  },
  {
   "cell_type": "code",
   "execution_count": 14,
   "id": "330801f4-76a7-4160-b38f-5fe14c7e4669",
   "metadata": {},
   "outputs": [
    {
     "data": {
      "image/png": "[encoded data removed]",
      "text/plain": [
       "<Figure size 432x288 with 1 Axes>"
      ]
     },
     "metadata": {
      "needs_background": "light"
     },
     "output_type": "display_data"
    }
   ],
   "source": [
    "a = 0.01\n",
    "funcplot(np.maximum(a * x, x), 'Leaky ReLU(X)')"
   ]
  },
  {
   "cell_type": "markdown",
   "id": "3ef82b9f-59d2-4989-80eb-94442763ca53",
   "metadata": {},
   "source": [
    "- <font color='green'>Как ReLU, но не умирает, всё ещё легко считается</font>\n",
    "- <font color='green'>Производная может быть любого знака</font>\n",
    "- Важно, чтобы 𝑎 ≠ 1, иначе линейность"
   ]
  },
  {
   "cell_type": "markdown",
   "id": "de8d11aa-ddb0-4d47-93f4-d2add17479ac",
   "metadata": {},
   "source": [
    "**Как выбирать функцию активации?**\n",
    "\n",
    "- Обычно начинают с *ReLU*, если сетка умирает, берут *LeakyReLU*\n",
    "- *ReLU* &ndash; стандартный выбор для свёрточных сетей\n",
    "- В рекуррентных сетках чаще всего предпочитается *tanh*\n",
    "- На самом деле это не очень важно, нужно держать в голове свойства функций, о которых выше шла речь, и понимать, что от перебора функций обычно выигрыш в качестве довольно низкий\n",
    "- Но есть и исключения ...\n",
    "\n",
    "[Статья с обзором на архиве](https://arxiv.org/pdf/1804.02763.pdf)"
   ]
  },
  {
   "cell_type": "markdown",
   "id": "2998b163-4157-4a40-a4ba-574b56df7509",
   "metadata": {},
   "source": [
    "<a href='#contents'>К содержанию</a>"
   ]
  },
  {
   "cell_type": "markdown",
   "id": "e4d1d891-5715-4270-be36-c4a74346010b",
   "metadata": {},
   "source": [
    "<a id='initialisation'></a>\n",
    "***"
   ]
  },
  {
   "cell_type": "markdown",
   "id": "b2a87ccf-092f-4445-971b-8ce6a34060d3",
   "metadata": {},
   "source": [
    "## Инициализация весов"
   ]
  },
  {
   "cell_type": "markdown",
   "id": "50b7a778-89d8-4b04-acea-eb0ea271f4ce",
   "metadata": {},
   "source": [
    "От инициализации весов иногда многое зависит (см. выше, нейронка может с места в карьер сдохнуть). Обычно стремятся уменьшить симметрию и инициализируют рандомными числами из какого-нибудь распределения (нормальное, равномерное). \n",
    "\n",
    "Наши признаки 𝑋 пришли к нам из какого-то распределения. Выход слоя 𝑓(𝑋𝑊) будет принадлежать другому распределению. Если инициализировать веса неправильно, дисперсия распределения может от слоя к слою затухать (сигнал будет теряться) либо наоборот, возрастать (сигнал будет рассеиваться). Эмпирически было выяснено, что это может портить сходимость для глубоких сеток. Хочется контролировать дисперсию.\n",
    "\n",
    "**Симметричный случай**\n",
    "\n",
    "В симметричном случае распределение может быть таким:\n",
    "\n",
    "![Distribution](img/6.PNG)\n",
    "\n",
    "(как это читать: диаграммы показывают распределение выходов слоя слева направо, т.е. левые диаграммы после первого слоя, правые &ndash; с конца). "
   ]
  },
  {
   "cell_type": "markdown",
   "id": "e57eed61-5ebe-477f-801f-95c0d651eae5",
   "metadata": {},
   "source": [
    "Выход нейрона перед активацией такой:\n",
    "\n",
    "$h_i = w_0 + \\sum\\limits_{i=1}^{n_{in}}w_i \\cdot x_i$\n",
    "\n",
    "Дисперсия $h_i$ выражается через дисперсии $x$ и $w$, не зависит от константы $w_0$. Как ее вывести:\n",
    "\n",
    "$h = x \\cdot w$ (векторное представление)\n",
    "\n",
    "$Var(h) = E(h - E(h)^2) = E((x \\cdot w - E(x \\cdot w)^2)$ (по определению)\n",
    "\n",
    "$E(x_ \\cdot w) = E(x) \\cdot E(w)$\n",
    "\n",
    "Подставим\n",
    "\n",
    "$Var(h) = E(x^2 \\cdot w^2 - 2 \\cdot x \\cdot w \\cdot E(x) \\cdot E(w) + E(x)^2 \\cdot E(w)^2)$\n",
    "\n",
    "$Var(h) = E(x^2) \\cdot E(w^2) - 2 \\cdot E(x)^2 \\cdot E(w)^2 + E(x)^2 + E(w)^2$\n",
    "\n",
    "С другой стороны, по определению, любая дисперсия любой величины у:\n",
    "\n",
    "$Var(y) = E(y^2) - E(y)^2$ ⇒ $E(y^2) = Var(y) + E(y)^2$\n",
    "\n",
    "Подставляем\n",
    "\n",
    "$Var(h) = (Var(x) + E(x)^2) \\cdot (Var(w) + E(w)^2) - E(x)^2 \\cdot E(w)^2$\n",
    "\n",
    "Раскроем скобки\n",
    "\n",
    "$Var(h) = Var(x) \\cdot Var(w) + Var(x) \\cdot E(w)^2 + E(x)^2) \\cdot Var(w) + \\color{red}{E(x)^2 \\cdot E(w)^2 - E(x)^2 \\cdot E(w)^2}$\n",
    "\n",
    "Выделенная красным часть самоуничтожится, и получится (если уже не в векторном представлении):\n",
    "\n",
    "$Var(h_i) = Var(\\sum\\limits_{i=1}^{n_{in}}w_i \\cdot x_i) = \\sum\\limits_{i=1}^{n_{in}}Var(w_i \\cdot x_i) = \\sum\\limits_{i=1}^{n_{in}}[E(x_i)]^2 \\cdot Var(w_i) + [E(w_i)]^2 \\cdot Var(x_i) + Var(x_i) \\cdot Var(w_i)$\n",
    "\n",
    "Если функция активации предыдущего слоя симметричная, тогда матожидание икса = 0 ($E(x_i) = 0$). Будем инициализировать веса с нулевым средним, тогда и $E(w_i) = 0$.\n",
    "\n",
    "$Var(h_i) = Var(\\sum\\limits_{i=1}^{n_{in}}w_i \\cdot x_i) = \\sum\\limits_{i=1}^{n_{in}}Var(w_i \\cdot x_i) = \\sum\\limits_{i=1}^{n_{in}}[E(x_i)]^2 \\cdot Var(w_i) + [E(w_i)]^2 \\cdot Var(x_i) + Var(x_i) \\cdot Var(w_i) = \\sum\\limits_{i=1}^{n_{in}} Var(x_i) \\cdot Var(w_i) = Var(x_i) \\cdot [n_{in} \\cdot Var(w_i)]$\n",
    "\n",
    "$ [n_{in} \\cdot Var(w_i)] = 1 $ &ndash; нужно, чтобы так было, чтобы дисперсия выхода была примерно равна дисперсии входа"
   ]
  },
  {
   "cell_type": "markdown",
   "id": "be33dd24-121a-47c0-9b63-10ed33e7492d",
   "metadata": {},
   "source": [
    "Тогда, например, если мы берем первоначальные веса из распределения вида $U\\left[ -\\frac{\\sqrt{3}}{\\sqrt{n_{in}}}; \\frac{\\sqrt{3}}{\\sqrt{n_{in}}} \\right]$, то дисперсия будет равна $Var(w_i) = \\frac{1}{12} \\left( -\\frac{\\sqrt{3}}{\\sqrt{n_{in}}} + \\frac{\\sqrt{3}}{\\sqrt{n_{in}}} \\right)^2 = \\frac{1}{n_{in}} = 1$.\n",
    "\n",
    "При этом при forward pass на вход идет $n_{in}$ наблюдений, а на backward &ndash; $n_{out}$ градиентов ⇒ канал с дисперсией может быть непостоянным, если число весов от слоя к слою сильно колеблется. Для неодинаковых размеров слоёв невозможно удволетворить обоим условиям, поэтому обычно усредняют: $U\\left[ -\\frac{\\sqrt{6}}{\\sqrt{n_{in} + n_{out}}}; \\frac{\\sqrt{6}}{\\sqrt{n_{in} + n_{out}}} \\right]$. Такая инициализация называется <font color='green'>инициализация Ксавье Глоро</font>. [Статья Глоро тут](http://proceedings.mlr.press/v9/glorot10a/glorot10a.pdf)."
   ]
  },
  {
   "cell_type": "markdown",
   "id": "9ec1d567-f47c-41aa-8059-b5f287415ebb",
   "metadata": {},
   "source": [
    "**Несимметричный случай**\n",
    "\n",
    "Для несимметричного случая распределение может выглядеть так:\n",
    "\n",
    "<img src='img/7.PNG' width='600'>"
   ]
  },
  {
   "cell_type": "markdown",
   "id": "e7868462-e701-4136-aa15-cd69b366c789",
   "metadata": {},
   "source": [
    "Формула та же самая, но когда нет симметрии, можно занулить только второе слагаемое:\n",
    "\n",
    "$Var(h_i) = Var(\\sum\\limits_{i=1}^{n_{in}}w_i \\cdot x_i) = \\sum\\limits_{i=1}^{n_{in}}[E(x_i)]^2 \\cdot Var(w_i) + [E(w_i)]^2 \\cdot Var(x_i) + Var(x_i) \\cdot Var(w_i) =  \\sum\\limits_{i=1}^{n_{in}}Var(w_i) \\cdot E(x_i^2) = E(x_i^2) \\cdot \\color{green}{[n_{in} \\cdot Var(w_i)]}$"
   ]
  },
  {
   "cell_type": "markdown",
   "id": "29c9dfef-c10d-42a0-9c7d-16c7ec88ecfa",
   "metadata": {},
   "source": [
    "Инициализация, которая подходит для несимметричного случая &ndash; <font color='green'>инициализация Хе</font>. [Статья тут](https://arxiv.org/pdf/1502.01852.pdf)."
   ]
  },
  {
   "cell_type": "markdown",
   "id": "64066d5f-5d7e-4706-be5f-74dea10a5ba6",
   "metadata": {},
   "source": [
    "Все эти сложные математические пируэты ведут, собственно, к главному выводу:\n",
    "\n",
    "- Для симметричных функций с нулевым средним нужно использовать инициализацию Ксавье init=\"glorot_uniform\";\n",
    "- Для ReLU и им подобным инициализацию Хe init=\"he_uniform\" или init=\"he_normal\".\n",
    "\n",
    "Эти две инициализации корректируют параметры распределений в зависимости от входа и выхода слоя так, чтобы поддерживать дисперсию равной единице."
   ]
  },
  {
   "cell_type": "markdown",
   "id": "822774e1-e2b3-4560-b510-3493cac4e4af",
   "metadata": {},
   "source": [
    "Пример кода для Keras:"
   ]
  },
  {
   "cell_type": "code",
   "execution_count": null,
   "id": "158760c3-ea71-42e4-8ff6-9e9634ee4563",
   "metadata": {},
   "outputs": [],
   "source": [
    "def get_new_model():\n",
    "    acc = Accuracy()\n",
    "    \n",
    "    model = Sequential([\n",
    "        L.Dense(5, input_dim=X_train.shape[1], kernel_initializer='he_normal', activation='relu'),\n",
    "        L.Dense(5, kernel_initializer='he_normal', activation='relu'),\n",
    "        L.Dense(1, kernel_initializer='glorot_uniform', activation='sigmoid')\n",
    "    ])"
   ]
  },
  {
   "cell_type": "markdown",
   "id": "ca2eb187-ec95-4da0-a40f-37caea0fd70b",
   "metadata": {},
   "source": [
    "Пример кода для torch (инициализация Кайминга = инициализация Хе, чувака звали Kaiming He и он китаец, поэтому никто не понял, что из этого фамилия...):"
   ]
  },
  {
   "cell_type": "code",
   "execution_count": null,
   "id": "c0050549-b347-4f78-abff-62e76618b9bd",
   "metadata": {},
   "outputs": [],
   "source": [
    "class FeedforwardNeuralNetModel_with_Kaiming(nn.Module):\n",
    "    def __init__(self, input_dim, hidden_dim, output_dim):\n",
    "        super(FeedforwardNeuralNetModel_with_Kaiming, self).__init__()\n",
    "        # Linear function\n",
    "        self.fc1 = nn.Linear(input_dim, hidden_dim) \n",
    "        # Linear weight, W,  Y = WX + B\n",
    "        nn.init.kaiming_normal_(self.fc1.weight)\n",
    "        # Non-linearity\n",
    "        self.relu = nn.ReLU()\n",
    "        # Linear function (readout)\n",
    "        self.fc2 = nn.Linear(hidden_dim, output_dim)  \n",
    "        nn.init.kaiming_normal_(self.fc2.weight)\n",
    "\n",
    "    def forward(self, x):\n",
    "        # Linear function\n",
    "        out = self.fc1(x)\n",
    "        # Non-linearity\n",
    "        out = self.relu(out)\n",
    "        # Linear function (readout)\n",
    "        out = self.fc2(out)\n",
    "        return out"
   ]
  },
  {
   "cell_type": "markdown",
   "id": "835052e4-a57b-4065-aa30-bb36d48b7b69",
   "metadata": {},
   "source": [
    "<a href='#contents'>К содержанию</a>"
   ]
  },
  {
   "cell_type": "markdown",
   "id": "dd4cb672-f91b-4078-9768-b1527bedf3c3",
   "metadata": {},
   "source": [
    "<a id='gradients'></a>\n",
    "***"
   ]
  },
  {
   "cell_type": "markdown",
   "id": "59a8fd94-a218-4b3f-8229-bf2e56b7fda9",
   "metadata": {
    "tags": []
   },
   "source": [
    "## Градиентный спуск и его виды"
   ]
  },
  {
   "cell_type": "markdown",
   "id": "49431ff2-19ac-4e9a-808e-dbf362d57fa5",
   "metadata": {},
   "source": [
    "Как считать градиенты. \n",
    "\n",
    "Положим, у нас сетка состоит из двух слоев, на каждом слое один нейрон с одним весом и одним смещением, а между нейронами ReLU. То есть, так:\n",
    "\n",
    "1). $h_1 = w_1 \\cdot x + b_0$ ; 2). $ h_{r} = ReLU(h_1) $ ; 3). $ out = h_{r} \\cdot w_1 + b_2 $\n",
    "\n",
    "Как посчитать градиенты для такой сетки?"
   ]
  },
  {
   "cell_type": "markdown",
   "id": "286067be-5829-4c4d-9ac7-e08507853128",
   "metadata": {},
   "source": [
    "$L = (y - out)^2$ &ndash; функционал ошибки MSE\n",
    "\n",
    "Градиент для Loss:\n",
    "\n",
    "$ \\frac{\\partial L} {\\partial out}  = 2 \\cdot (out - y)$\n",
    "\n",
    "Для $w_2$ и $b_2$:\n",
    "\n",
    "$ \\frac {\\partial L} {\\partial w_2} = \\frac {\\partial L} {\\partial out} \\cdot \\frac {\\partial out} {\\partial w_2} = 2 \\cdot (out - y) \\cdot h_r^T$\n",
    "\n",
    "$ \\frac {\\partial L} {\\partial b_2} = \\frac {\\partial L} {\\partial out} \\cdot \\frac {\\partial out} {\\partial b_2} = 2 \\cdot (out - y) \\cdot 1 $ &ndash; так как производная по $b_2$ = $ (const) + \\color{red}{b_2} = 1$\n",
    "\n",
    "Для $w_1$ и $b_1$:\n",
    "\n",
    "$\\frac {\\partial L} {\\partial w_1} = \\frac {\\partial L} {\\partial out} \\cdot \\frac {\\partial out} {\\partial h_r} \\cdot \\frac {\\partial h_r} {\\partial h_1} \\cdot \\frac {\\partial h_1} {\\partial w_1} = 2 \\cdot (out - y) \\cdot \\frac {\\partial out} {\\partial h_r} \\cdot \\frac {\\partial h_r} {\\partial h_1} \\cdot x^T $\n",
    "\n",
    "$\\frac {\\partial L} {\\partial b_1} = \\frac {\\partial L} {\\partial out} \\cdot \\frac {\\partial out} {\\partial h_r} \\cdot \\frac {\\partial h_r} {\\partial h_1} \\cdot \\frac {\\partial h_1} {\\partial b_1} = 2 \\cdot (out - y) \\cdot \\frac {\\partial out} {\\partial h_r} \\cdot \\frac {\\partial h_r} {\\partial h_1} \\cdot 1 $ &ndash; так как производная по $b_1$ тоже = $(const) + \\color{red}{b_1} = 1$"
   ]
  },
  {
   "cell_type": "code",
   "execution_count": 20,
   "id": "ffdb8d74-aa54-4ad5-9b1f-e4ce16787520",
   "metadata": {},
   "outputs": [],
   "source": [
    "import torch\n",
    "\n",
    "batch_size = 64\n",
    "input_size = 3\n",
    "hidden_size = 2\n",
    "output_size = 1\n",
    "dtype = torch.float\n",
    "device = torch.device(\"cpu\")"
   ]
  },
  {
   "cell_type": "code",
   "execution_count": 22,
   "id": "df661f42-ecd5-4490-859d-caf74fff203e",
   "metadata": {},
   "outputs": [
    {
     "name": "stdout",
     "output_type": "stream",
     "text": [
      "Loss on iteration 99 = 219.7015838623047\n",
      "Loss on iteration 199 = 212.0009307861328\n",
      "Loss on iteration 299 = 204.9124755859375\n",
      "Loss on iteration 399 = 198.3756103515625\n",
      "Loss on iteration 499 = 192.33839416503906\n"
     ]
    }
   ],
   "source": [
    "# Create random input and output data\n",
    "x = torch.randn(batch_size, input_size, device=device, dtype=dtype)\n",
    "y = torch.randn(batch_size, output_size, device=device, dtype=dtype)\n",
    "\n",
    "# Randomly initialize weights\n",
    "w1 = torch.randn(input_size, hidden_size, device=device, dtype=dtype)\n",
    "w2 = torch.randn(hidden_size, output_size, device=device, dtype=dtype)\n",
    "b1 = torch.randn(batch_size, hidden_size, device=device, dtype=dtype)\n",
    "b2 = torch.randn(batch_size, output_size, device=device, dtype=dtype)\n",
    "\n",
    "learning_rate = 1e-6\n",
    "for t in range(500):\n",
    "    h_1 = x.mm(w1) + b1\n",
    "    h_relu = h_1.clamp(min=0)\n",
    "    out = h_relu.mm(w2) + b2\n",
    "\n",
    "    loss = (out - y).pow(2).sum().item() #MSE\n",
    "\n",
    "    dloss_dout = 2 * (out - y)  # первая производная по лоссу\n",
    "\n",
    "    grad_w2 = h_relu.t().mm(dloss_dout)\n",
    "    grad_b2 = dloss_dout\n",
    "    grad_hrelu = dloss_dout.mm(w2.t())\n",
    "    grad_hrelu[h_1 < 0] = 0\n",
    "    grad_w1 = x.t().mm(grad_hrelu)\n",
    "    grad_b1 = grad_hrelu\n",
    " \n",
    "    w1 -= learning_rate * grad_w1\n",
    "    w2 -= learning_rate * grad_w2\n",
    "    b1 -= learning_rate * grad_b1\n",
    "    b2 -= learning_rate * grad_b2\n",
    "    if t % 100 == 99:\n",
    "        print(f'Loss on iteration {t} = {loss}')"
   ]
  },
  {
   "cell_type": "markdown",
   "id": "de4e7ff3-e8f3-402e-bff5-0df5f824c603",
   "metadata": {},
   "source": [
    "Стандартный градиентный спуск (gradient descent): $ w_i = w_{i-1} - \\eta \\cdot g(w_{i-1})$. Это формула для обновления веса $w_i$. $\\eta$ &ndash; это шаг обучения, learning rate, обычно его выбирают довольно маленьким (типа 0.001).\n",
    "\n",
    "- Полный градиентный спуск: считаем градиенты по всем элементам выборки\n",
    "- Стохастический градиентный спуск (SGD): считаем градиенты на каждом шаге по одному элементы выборки\n",
    "- Мини-батч градиентный спуск (mini-batch SGD): считаем градиенты на каждом шаге по батчу (набору элементов из выборки)\n",
    "\n",
    "В чем разница? Есть теорема, что градиентный спуск обязательно сойдется, даже стохастический (просто это случится через миллион лет). Для классического простого случая, когда у нас функция выпуклая (не имеет локальных минимумов), быстрее и стабильнее всего сходится полный градиентный спуск. Стохастический будет сходиться медленнее (но вычислительно он гораздо легче), а по батчу &ndash; нечто среднее. \n",
    "\n",
    "1) <img src='img/3.PNG'> 2) <img src='img/4.PNG'> 3) <img src='img/5.PNG'>\n",
    "\n",
    "Так будет выглядеть спуск для того самого классического случая (побаловаться можно [здесь](https://deeplearning.ai/ai-notes/optimization/)). В первом случае используем полный градиентный спуск со средней скоростью learning rate, во втором случае mini-batch SGD с большой скоростью, а в третьем &ndash; SGD с большой скоростью. "
   ]
  },
  {
   "cell_type": "markdown",
   "id": "f03a996d-445b-4b0a-bcf9-5ec87bd15be3",
   "metadata": {},
   "source": [
    "В чем важность learning rate, а также какие проблемы могут возникнуть?"
   ]
  },
  {
   "cell_type": "code",
   "execution_count": 8,
   "id": "c6ad24fb-e513-479b-91b8-c8b979725815",
   "metadata": {},
   "outputs": [
    {
     "data": {
      "image/png": "[encoded data removed]",
      "text/plain": [
       "<Figure size 432x288 with 1 Axes>"
      ]
     },
     "metadata": {
      "needs_background": "light"
     },
     "output_type": "display_data"
    }
   ],
   "source": [
    "# Наша функция f(x)\n",
    "func = lambda x: x ** 3 - 2 * x ** 2 + 2\n",
    "\n",
    "# Производная функции f(x)\n",
    "d_func = lambda x: 3 * x ** 2 - 4 * x\n",
    "\n",
    "# Сделаем массив из 1000 элементов от -3 до 3\n",
    "x = np.linspace(-3, 3, 1000)\n",
    "\n",
    "# Определим границы по y для графика\n",
    "plt.ylim([-1, 3])\n",
    "plt.plot(x, func(x))\n",
    "plt.show()"
   ]
  },
  {
   "cell_type": "code",
   "execution_count": 9,
   "id": "cee64ee0-e16c-423e-8193-dc77a9459b79",
   "metadata": {},
   "outputs": [],
   "source": [
    "def find_minimum_first_order(\n",
    "    learning_rate=0.01,\n",
    "    eps=1e-4,\n",
    "    max_iterations=1000,\n",
    "    anneal_learning_rate=None\n",
    "):\n",
    "    '''Определим функцию для оптимизации, которая должна принимать на вход learning rate, максимальное количество итераций'''\n",
    "    i = 0\n",
    "    x_old, x_new = 0, 2\n",
    "    # Будем сохранятся обновлённые значения x и y\n",
    "    x_list, y_list = [x_old], [func(x_old)]\n",
    "    if not anneal_learning_rate:\n",
    "        anneal_learning_rate = lambda lr, step: lr\n",
    "    # TODO:\n",
    "    # Your code here\n",
    "    # --------------\n",
    "    while abs(x_new - x_old) > eps and i < max_iterations:\n",
    "        # Получим learning rate для текущей итерации\n",
    "        learning_rate = anneal_learning_rate(learning_rate, step=i)\n",
    "        # Обновим x_old\n",
    "        x_old = x_new\n",
    "        # Сделаем один шаг gradient descent\n",
    "        x_new = x_old - learning_rate * d_func(x_old)\n",
    "        # Добавим новые значения для визуализации сходимости\n",
    "        x_list.append(x_new)\n",
    "        y_list.append(func(x_new))\n",
    "        i += 1\n",
    "    # --------------\n",
    "    print(\"Найденный локальный минимум:\", x_new)\n",
    "    print(\"Количество шагов:\", len(x_list))\n",
    "    # Визуализируем сходимость\n",
    "    plt.figure(figsize=[6, 4])\n",
    "    plt.ylim([-3, 8])\n",
    "    plt.scatter(x_list, y_list, c=\"r\", edgecolors='k')\n",
    "    plt.plot(x_list, y_list, c=\"r\")\n",
    "    plt.plot(x, func(x), c=\"b\")\n",
    "    plt.title(\"Descent trajectory\")\n",
    "    plt.show()"
   ]
  },
  {
   "cell_type": "code",
   "execution_count": 10,
   "id": "cc538f46-fd76-4eda-8faa-0e020420514a",
   "metadata": {},
   "outputs": [
    {
     "name": "stdout",
     "output_type": "stream",
     "text": [
      "Найденный локальный минимум: 1.3577577123861129\n",
      "Количество шагов: 729\n"
     ]
    },
    {
     "data": {
      "image/png": "[encoded data removed]",
      "text/plain": [
       "<Figure size 432x288 with 1 Axes>"
      ]
     },
     "metadata": {
      "needs_background": "light"
     },
     "output_type": "display_data"
    }
   ],
   "source": [
    "find_minimum_first_order(0.001)"
   ]
  },
  {
   "cell_type": "code",
   "execution_count": 11,
   "id": "4fb9bacf-3a95-4d36-b692-92b172d33a66",
   "metadata": {},
   "outputs": [
    {
     "name": "stdout",
     "output_type": "stream",
     "text": [
      "Найденный локальный минимум: 1.3356881625009205\n",
      "Количество шагов: 129\n"
     ]
    },
    {
     "data": {
      "image/png": "[encoded data removed]",
      "text/plain": [
       "<Figure size 432x288 with 1 Axes>"
      ]
     },
     "metadata": {
      "needs_background": "light"
     },
     "output_type": "display_data"
    }
   ],
   "source": [
    "find_minimum_first_order(0.01)"
   ]
  },
  {
   "cell_type": "code",
   "execution_count": 12,
   "id": "d072248d-8949-40ed-af11-631aa5468c2e",
   "metadata": {},
   "outputs": [
    {
     "name": "stdout",
     "output_type": "stream",
     "text": [
      "Найденный локальный минимум: 1.3333495713163788\n",
      "Количество шагов: 8\n"
     ]
    },
    {
     "data": {
      "image/png": "[encoded data removed]",
      "text/plain": [
       "<Figure size 432x288 with 1 Axes>"
      ]
     },
     "metadata": {
      "needs_background": "light"
     },
     "output_type": "display_data"
    }
   ],
   "source": [
    "find_minimum_first_order(0.3)"
   ]
  },
  {
   "cell_type": "markdown",
   "id": "6eece782-e030-4639-bf94-8ff56f80ed57",
   "metadata": {},
   "source": [
    "Хотя большой learning rate опасен возможностью overflow (улетим в бесконечность), у него есть ряд преимуществ. Чем больше темп обучения, тем большие расстояния мы преодолеваем за один шаг и тем выше вероятность быстрее найти хорошее пространство локальных минимумов.\n",
    "\n",
    "Хорошая стратегия — начинать с достаточно большого шага (чтобы хорошо попутешествовать по функции), а потом постепенно его уменьшать, чтобы стабилизировать процесс обучения в каком-то локальном минимуме."
   ]
  },
  {
   "cell_type": "code",
   "execution_count": 13,
   "id": "4febf2fd-8252-41a7-ab63-6c52348ff363",
   "metadata": {},
   "outputs": [
    {
     "name": "stdout",
     "output_type": "stream",
     "text": [
      "Найденный локальный минимум: 1.294744839667743\n",
      "Количество шагов: 7\n"
     ]
    },
    {
     "data": {
      "image/png": "[encoded data removed]",
      "text/plain": [
       "<Figure size 432x288 with 1 Axes>"
      ]
     },
     "metadata": {
      "needs_background": "light"
     },
     "output_type": "display_data"
    }
   ],
   "source": [
    "find_minimum_first_order(0.6, anneal_learning_rate=lambda lr, step: 0.3 * lr)"
   ]
  },
  {
   "cell_type": "markdown",
   "id": "178c69a7-d597-45de-b9bf-a2f0fe4f6ae7",
   "metadata": {
    "tags": []
   },
   "source": [
    "Описания ниже сперты у Кантонистовой\n",
    "\n",
    "### SGD\n",
    "SGD - этот же самый gradient descent, что мы рассматривали ранее, вот только подсчёт градиентов производится не по всему множеству данных, а по отдельно взятому сэмплу. Очевидно, такая оптимизация будет очень шумной, что усложнит обучение модели. Поэтому обычно используют MiniBatch-SGD, где вместо одного сэмпла мы берём $k$ семплов. У такого подхода есть несколько плюсов:\n",
    "\n",
    "* ниже variance в сравнении с обычным SGD, что приводит к более стабильному процессу оптимизации\n",
    "* хорошо работает с DL библиотеками, так как теперь мы работаем с матрицами\n",
    "\n",
    "$$\n",
    "\\begin{eqnarray}\n",
    "g &=& \\frac{1}{m}\\nabla_w \\sum_i L(f(x_{i};w), y_{i}) \\\\\n",
    "w &=& w - \\eta \\times g\n",
    "\\end{eqnarray}\n",
    "$$\n",
    "\n",
    "### SGD with Momentum\n",
    "\n",
    "<img src=\"img/Momentum.png\" width=\"600\">\n",
    "\n",
    "Попытаемся добавить SGD эффект инерции. Теперь, вместо того чтобы двигаться строго в направлении градиента в каждой точке, мы стараемся продолжить движение в том же направлении, в котором двигались ранее. То есть у нашей точки, которая спускается по многомерной поверхности, появляется импульс (momentum), который контролируется при помощи параметра $\\alpha$. Он определяет какую часть прошлого градиента мы хотим использовать на текущем шаге.\n",
    "$$\n",
    "\\begin{eqnarray}\n",
    "g_{t} &=& \\alpha g_{t-1} + \\eta \\frac{1}{m}\\nabla_w \\sum_i L(f(x_{i};w), y_{i}) \\\\\n",
    "w &=& w - \\eta \\times g\n",
    "\\end{eqnarray}\n",
    "$$\n",
    "\n",
    "### Nesterov\n",
    "\n",
    "<img src='img/nesterov.PNG' width='500'>\n",
    "\n",
    "Можно момент добавлять по-другому: \n",
    "\n",
    "$$\n",
    "\\begin{eqnarray}\n",
    "\\begin{cases}\n",
    "m_{i + 1} &=& \\beta m_i - \\gamma \\Delta f(w_i + \\beta m_i) \\\\\n",
    "w_{i + 1} &=& w_i + m_{i + 1}\n",
    "\\end{cases}\n",
    "\\end{eqnarray}\n",
    "$$\n",
    "\n",
    "## Адаптивные варианты градиентного спуска\n",
    "Во всех предыдущих алгоритмах у нас был фиксированный learning rate. Начиная с Adagrad у нас будут идти алгоритмы, которые подстраивают learning rate в зависимости от обучения. Они называются адаптивными вариантами градиентного спуска.\n",
    "\n",
    "Адаптивные варианты градиентного спуска подстраивает темп обучения таким образом, чтобы делать большие или маленькие обновления отдельных параметров. Например, может так сложиться, что некоторые веса близки к своим локальным минимумам, тогда по этим координатам нужно двигаться медленнее, а другие веса ещё только в середине, значит их можно менять гораздо быстрее. Подобные методы часты приводят к более обоснованной модели и сходятся гораздо быстрее.\n",
    "\n",
    "### Adagrad\n",
    "$$\n",
    "\\begin{eqnarray}\n",
    "g &=& \\frac{1}{m}\\nabla_w \\sum_i L(f(x_{i};w), y_{i}) \\\\\n",
    "s &=& s + diag(gg^{T}) \\\\\n",
    "w &=& w - \\frac{\\eta}{\\sqrt{s+eps}} \\odot g\n",
    "\\end{eqnarray}\n",
    "$$\n",
    "Теперь нам не нужно сильно волноваться о правильном подборе $\\eta$, так как $s$ контролирует скорость обучения для каждого параметра.\n",
    "\n",
    "### RMSprop\n",
    "У Adagrad есть сильный минус. $s$ - всегда положительна и постоянно растёт во время обучения, что приводит к ситуации, когда у нас learning rate становится слишком маленький, и мы перестаём учиться. RMSprop исправляет эту проблему при помощи экспоненциального сглаживания\n",
    "$$\n",
    "\\begin{eqnarray}\n",
    "g &=& \\frac{1}{m}\\nabla_w \\sum_i L(f(x_{i};w), y_{i}) \\\\\n",
    "s &=& \\rho s + (1 - \\rho) diag(gg^{T}) \\\\\n",
    "w &=& w - \\frac{\\eta}{\\sqrt{s+eps}} \\odot g\n",
    "\\end{eqnarray}\n",
    "$$\n",
    "\n",
    "### Adam\n",
    "Добавим не только моменты второго порядка, но и первого при обновлении параметров\n",
    "$$\n",
    "\\begin{eqnarray}\n",
    "g &=& \\frac{1}{m}\\nabla_w \\sum_i L(f(x_{i};w), y_{i}) \\\\\n",
    "m &=& \\beta_1 m + (1 - \\beta_1) g \\\\\n",
    "v &=& \\beta_2 v + (1 - \\beta_2) diag(gg^{T}) \\\\\n",
    "\\hat{m} &=& \\frac{m}{1 - \\beta_1^{t}} \\\\\n",
    "\\hat{v} &=& \\frac{v}{1 - \\beta_2^{t}} \\\\\n",
    "w &=& w - \\frac{\\eta}{\\sqrt{\\hat{v} + \\epsilon}} \\odot \\hat{m}\n",
    "\\end{eqnarray}\n",
    "$$\n",
    "\n",
    "### AdamW\n",
    "\n",
    "Это Адам с затуханием весов (weight decay). Подробнее можно прочитать [тут](https://towardsdatascience.com/why-adamw-matters-736223f31b5d).\n",
    "\n",
    "### Схема\n",
    "<div>\n",
    "<img src=\"img/Modifications.png\" width=\"300\"/>\n",
    "</div>"
   ]
  },
  {
   "cell_type": "markdown",
   "id": "3aad6352-d23d-4c91-9672-33202bd77593",
   "metadata": {},
   "source": [
    "#### Размер батча\n",
    "\n",
    "Yann LeCun утверждает, что чем больше батч, тем лучше, но экспериментально доказано, что совсем большие батчи могут ухудшить ситуацию. С чем это связано? Если поверхность функции потерь очень сложная с кучей локальных минимумов, на большом батче мы можем угодить в локальный минимум и не выскочим из него (типа, собрали все точки с окрестностей и они все указывают в него). Поэтому батч лучше брать побольше, но если что, можно пробовать и уменьшать. \n",
    "\n",
    "[Некоторая статеечка](https://arxiv.org/pdf/1711.00489.pdf)\n",
    "\n",
    "Изменение размера батча vs learning rate"
   ]
  },
  {
   "cell_type": "markdown",
   "id": "a2c0554e-939f-46ec-a094-710299c6e3d2",
   "metadata": {},
   "source": [
    "<a href='#contents'>К содержанию</a>"
   ]
  },
  {
   "cell_type": "markdown",
   "id": "6d33f7f7-5261-423a-9a6a-38172f9055af",
   "metadata": {},
   "source": [
    "<a id='loss'></a>\n",
    "***"
   ]
  },
  {
   "cell_type": "markdown",
   "id": "b6147d88-40fa-48cd-831e-0ccb58083d8f",
   "metadata": {},
   "source": [
    "### Функционал ошибки и его виды"
   ]
  },
  {
   "cell_type": "markdown",
   "id": "89aeb306-58a0-4d96-8e29-8e7c994023c9",
   "metadata": {},
   "source": [
    "тут пока пусто"
   ]
  },
  {
   "cell_type": "markdown",
   "id": "b918f873-fb32-444c-a658-7a87f9e55a67",
   "metadata": {},
   "source": [
    "<a href='#contents'>К содержанию</a>"
   ]
  },
  {
   "cell_type": "markdown",
   "id": "671a579e-ef3b-4a11-99c1-f41f179b95f7",
   "metadata": {},
   "source": [
    "<a id='norm'></a>\n",
    "***"
   ]
  },
  {
   "cell_type": "markdown",
   "id": "ce9233ff-4465-4a94-9ce0-7e175dff12f6",
   "metadata": {},
   "source": [
    "### Нормализация"
   ]
  },
  {
   "cell_type": "markdown",
   "id": "f808d98d-e659-438a-96d9-fa46a1dd113c",
   "metadata": {},
   "source": [
    "Первоначальная проблема, с которой пытались бороться &ndash; Covariate Shift (изменение распределения данных). Объекты могут быть по-разному распределены на обучении и на тестировании, распределение может изменяться после прохождения очередного слоя (internal covariate shift). \n",
    "\n",
    "Придумали для этого делать Batch Normalisation:\n",
    "\n",
    "- Реализуется как отдельный слой\n",
    "- Вычисляется для текущего батча\n",
    "- Оценим среднее и дисперсию каждой компоненты входного вектора: \n",
    "\n",
    "$$\\mu_B = \\frac{1}{n} \\sum\\limits_{j=1}^{n}x_{B,j}$$\n",
    "\n",
    "$$\\sigma_B^2 = \\frac{1}{n} \\sum\\limits_{j=1}^{n}(x_{B,j} - \\mu_B)^2 : покоординатно$$ \n",
    "\n",
    "($x_{B,j}$ &ndash; j-й объект в батче\n",
    "\n",
    "Отмасштабируем все выходы:\n",
    "\n",
    "$$\\tilde{x}_{B,j} = \\frac{x_{B,j} - \\mu_B}{\\sqrt{\\sigma_B^2 + \\epsilon}}$$\n",
    "\n",
    "Зададим нужные нам среднее и дисперсию:\n",
    "\n",
    "$$z_{B,j} = \\gamma \\cdot \\tilde{x}_{B,j} + \\beta $$\n",
    "\n",
    "Здесь $\\gamma$ и $\\beta$ &ndash; обучаемые параметры сети. \n",
    "\n",
    "Итого: \n",
    "\n",
    "- Обычно вставляется между полносвязным/свёрточным слоём и нелинейностью\n",
    "- Позволяет увеличить длину шага в градиентном спуске\n",
    "- *Не факт, что действительно устраняет covariance shift*\n",
    "\n",
    "[Статья о нормализации](https://arxiv.org/pdf/1805.11604.pdf)"
   ]
  },
  {
   "cell_type": "markdown",
   "id": "d4582dcf-9c9c-45a1-8a71-aa920fd6e7dc",
   "metadata": {},
   "source": [
    "<a href='#contents'>К содержанию</a>"
   ]
  },
  {
   "cell_type": "markdown",
   "id": "23a0462b-c40c-4067-a7c6-ea26f3ce191a",
   "metadata": {},
   "source": [
    "<a id='dropout'></a>\n",
    "***"
   ]
  },
  {
   "cell_type": "markdown",
   "id": "7f46c05c-b29b-4059-a733-b8e9e499cd83",
   "metadata": {},
   "source": [
    "### Дропаут"
   ]
  },
  {
   "cell_type": "markdown",
   "id": "0f538cf7-e92e-4c55-83f2-1e398b0c39cf",
   "metadata": {},
   "source": [
    "Когда у нас мало данных и полносвязные слои, получается, что в сетке слишком много параметров и она сильно переобучается. Чтобы уменьшить переобучение в таком случае, можно сетке <s>дать молотком по башке</s> принудительно отключить часть нейронов, занулив их выходы. Это и называется dropout. Как это работает?\n",
    "\n",
    "- Можно определить как слой $d(x)$\n",
    "- Параметров нет, единственный гиперпараметр &ndash; $p$ (вероятность удаления нейрона)\n",
    "- На этапе обучения: $d(x) = \\frac{1}{p}m \\cdot x$ (m &ndash; вектор того же размера, что и х, элементы берутся из распределения Бернулли)\n",
    "- Деление на p нужно для сохранения суммарного масштаба выходов\n",
    "\n",
    "[Статья про дропаут](https://jmlr.org/papers/volume15/srivastava14a/srivastava14a.pdf)\n",
    "\n",
    "Интерпретация: мы обучаем все возможные архитектуры нейросетей, которые получаются из исходной выбрасыванием отдельных нейронов. У всех этих архитектур общие веса. На этапе применения (почти) усредняем прогнозы всех этих архитектур."
   ]
  },
  {
   "cell_type": "markdown",
   "id": "d41b0949-28c3-4df9-9819-4729c72a3478",
   "metadata": {},
   "source": [
    "<a href='#contents'>К содержанию</a>"
   ]
  },
  {
   "cell_type": "markdown",
   "id": "3ffcedd8-f3f6-497f-96a9-52d078b7ff0c",
   "metadata": {},
   "source": [
    "<a id='smoothing'></a>\n",
    "***"
   ]
  },
  {
   "cell_type": "markdown",
   "id": "20f8af70-f27e-4c46-bfac-e84d76bc2133",
   "metadata": {},
   "source": [
    "#### Label Smoothing"
   ]
  },
  {
   "cell_type": "markdown",
   "id": "90c324a1-586a-4e77-b08a-6e67676d8642",
   "metadata": {},
   "source": [
    "пока пусто"
   ]
  },
  {
   "cell_type": "markdown",
   "id": "19febf20-3e1b-488a-a23f-749f22c1511e",
   "metadata": {},
   "source": [
    "<a href='#contents'>К содержанию</a>"
   ]
  },
  {
   "cell_type": "markdown",
   "id": "3b463ba7-13eb-4905-822e-f8394531e247",
   "metadata": {},
   "source": [
    "<a id='conv'></a>\n",
    "***"
   ]
  },
  {
   "cell_type": "markdown",
   "id": "eee86f42-73c7-455a-abcc-d2d18e2b4e34",
   "metadata": {},
   "source": [
    "## CNN и сверточные слои"
   ]
  },
  {
   "cell_type": "markdown",
   "id": "33a8858c-144c-45bc-ad46-daaf71b3accc",
   "metadata": {},
   "source": [
    "пока пусто"
   ]
  },
  {
   "cell_type": "markdown",
   "id": "96beaa9f-7473-40c5-9f58-21f327756ddf",
   "metadata": {},
   "source": [
    "<a href='#contents'>К содержанию</a>"
   ]
  }
 ],
 "metadata": {
  "kernelspec": {
   "display_name": "Python 3 (ipykernel)",
   "language": "python",
   "name": "python3"
  },
  "language_info": {
   "codemirror_mode": {
    "name": "ipython",
    "version": 3
   },
   "file_extension": ".py",
   "mimetype": "text/x-python",
   "name": "python",
   "nbconvert_exporter": "python",
   "pygments_lexer": "ipython3",
   "version": "3.8.10"
  }
 },
 "nbformat": 4,
 "nbformat_minor": 5
}
